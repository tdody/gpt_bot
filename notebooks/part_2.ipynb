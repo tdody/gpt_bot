{
 "cells": [
  {
   "cell_type": "markdown",
   "metadata": {},
   "source": [
    "# Road to Generative AI - Part 2: Multi-Layer Perceptron\n",
    "\n",
    "## Introduction\n",
    "\n",
    "The purpose of this notebook is to explore the capabilities of Generative AI. In the [first part](https://tdody.github.io//bigram-and-nn/) of this series, we explored the concept of Generative AI and built a simple model that generates text using a bigram model and a single-layer NN. In this part, we will build a more complex model using Multi-Layer Perceptron (MLP) to generate text.\n",
    "\n",
    "The reason behind using MLP is that N-gram models suffer from the curse of dimensionality. As the size of the n-gram increases, the number of possible n-grams grows exponentially. This makes it difficult to store and process the n-grams. In contrast, MLP can learn the patterns in the data and generate text without the need to store all possible n-grams.\n",
    "\n",
    "In the paper \"A Neural Probabilistic Language Model\" by Yoshua Bengio et al., the authors proposed a neural network-based language model that can learn to predict the next word in a sentence. We are going to use a similar approach but our focus is on generating the next character in a sequence of characters.\n",
    "\n",
    "## Dataset\n",
    "\n",
    "We will use a dataset containing common bird names. Our source data can be found [here](https://www.kaggle.com/datasets/thepushkarp/common-bird-names)."
   ]
  },
  {
   "cell_type": "code",
   "execution_count": 144,
   "metadata": {},
   "outputs": [
    {
     "name": "stdout",
     "output_type": "stream",
     "text": [
      "First 10 birds in the dataset:\n",
      "Abbott's babbler, Abbott's booby, Abbott's starling, Abbott's sunbird, Abd al-Kuri sparrow, Abdim's stork, Aberdare cisticola, Aberrant bush warbler, Abert's towhee, Abyssinian catbird\n",
      "There are 10,976 birds in the dataset.\n",
      "The shortest character name has 3 birds.\n",
      "The longest character name has 35 birds.\n"
     ]
    }
   ],
   "source": [
    "DATASET_PATH = \"./datasets/birds/birds.csv\"\n",
    "\n",
    "birds = open(DATASET_PATH, \"r\").read().splitlines()\n",
    "\n",
    "print(\"First 10 birds in the dataset:\")\n",
    "print(\", \".join(birds[:10]))\n",
    "print(f\"There are {len(birds):,d} birds in the dataset.\")\n",
    "\n",
    "min_length = map(len, birds)\n",
    "max_length = map(len, birds)\n",
    "print(f\"The shortest character name has {min(min_length)} birds.\")\n",
    "print(f\"The longest character name has {max(max_length)} birds.\")"
   ]
  },
  {
   "cell_type": "code",
   "execution_count": 145,
   "metadata": {},
   "outputs": [],
   "source": [
    "from unidecode import unidecode\n",
    "\n",
    "def clean_name(name):\n",
    "    # Remove leading and trailing whitespaces\n",
    "    # Convert to lowercase\n",
    "    # Remove accents\n",
    "    # Remove special characters\n",
    "    # Replace spaces with underscores\n",
    "\n",
    "    name = name.strip().lower()\n",
    "    # replace special characters with a space\n",
    "    name = ''.join(char if char.isalnum() or char.isspace() else ' ' for char in name)\n",
    "    name = name.replace(\"`\", \"_\")  # Remove apostrophes\n",
    "    name = name.replace(\" \", \"_\")\n",
    "    name = unidecode(name)\n",
    "    return name"
   ]
  },
  {
   "cell_type": "code",
   "execution_count": 146,
   "metadata": {},
   "outputs": [
    {
     "name": "stdout",
     "output_type": "stream",
     "text": [
      "Cleaning process:\n",
      "Original: Blue-collared parrot -> Cleaned: blue_collared_parrot\n",
      "Original: Mindanao lorikeet -> Cleaned: mindanao_lorikeet\n",
      "Original: Club-winged manakin -> Cleaned: club_winged_manakin\n",
      "Original: Purple-bearded bee-eater -> Cleaned: purple_bearded_bee_eater\n",
      "Original: Western banded snake eagle -> Cleaned: western_banded_snake_eagle\n",
      "Original: Dusky-headed parakeet -> Cleaned: dusky_headed_parakeet\n",
      "Original: White-throated swift -> Cleaned: white_throated_swift\n",
      "Original: Sapphire flycatcher -> Cleaned: sapphire_flycatcher\n",
      "Original: Rusty-backed spinetail -> Cleaned: rusty_backed_spinetail\n",
      "Original: Dead Sea sparrow -> Cleaned: dead_sea_sparrow\n"
     ]
    }
   ],
   "source": [
    "# clean a few random names from the dataset\n",
    "import numpy as np\n",
    "rdm_indexes = np.random.randint(0, len(birds), 10)\n",
    "\n",
    "print(\"Cleaning process:\")\n",
    "for i in rdm_indexes:\n",
    "    name = birds[i]\n",
    "    cleaned_name = clean_name(name)\n",
    "    print(f\"Original: {name} -> Cleaned: {cleaned_name}\")"
   ]
  },
  {
   "cell_type": "code",
   "execution_count": 147,
   "metadata": {},
   "outputs": [
    {
     "name": "stdout",
     "output_type": "stream",
     "text": [
      "Number of unique tokens: 28\n",
      "_, `, a, b, c, d, e, f, g, h, i, j, k, l, m, n, o, p, q, r, s, t, u, v, w, x, y, z\n",
      "Token mapping: {1: 't', 2: 'u', 3: 'x', 4: 'a', 5: 'n', 6: '`', 7: 'z', 8: 'l', 9: 'c', 10: 'r', 11: 'd', 12: '_', 13: 'v', 14: 'k', 15: 's', 16: 'e', 17: 'q', 18: 'b', 19: 'h', 20: 'g', 21: 'y', 22: 'j', 23: 'f', 24: 'p', 25: 'm', 26: 'w', 27: 'o', 28: 'i', 0: '.'}\n"
     ]
    }
   ],
   "source": [
    "# clean all names in the dataset\n",
    "birds = list(map(clean_name, birds))\n",
    "\n",
    "# create a mapping from tokens to indices\n",
    "unique_tokens = set([c for w in birds for c in w])\n",
    "SPECIAL_TOKEN = \".\"\n",
    "index_to_token = {i: t for i, t in enumerate(unique_tokens, start=1)}\n",
    "token_to_index = {v: k for k, v in index_to_token.items()}\n",
    "index_to_token[0] = SPECIAL_TOKEN\n",
    "token_to_index[SPECIAL_TOKEN] = 0\n",
    "\n",
    "# log information about the tokenization\n",
    "print(f\"Number of unique tokens: {len(unique_tokens)}\")\n",
    "print(\", \".join(sorted(unique_tokens)))\n",
    "print(f\"Token mapping: {index_to_token}\")"
   ]
  },
  {
   "cell_type": "markdown",
   "metadata": {},
   "source": [
    "## Model Architecture\n",
    "\n",
    "The main limitation of the bigram model is its scalability. As we increase the context size, the number of unique n-grams grows exponentially, making it difficult to store and process them. To overcome this limitation, we will use a Multi-Layer Perceptron (MLP) model.\n",
    "\n",
    "The figure below shows the architecture of the MLP model. The model consists of an embedding layer $C$. The embeddings are fed into a hidden layer $H$ with a $tanh$ activation function. The output of the hidden layer is fed into the output layer $O$ with a softmax activation function. The output layer generates the probability distribution of the next character in the sequence.\n",
    "\n",
    "<figure>\n",
    "    <img src=\"./assets/MLP_architecture.png\" width=\"500\"/>\n",
    "    <figcaption>Neural architecture</figcaption>\n",
    "</figure>"
   ]
  },
  {
   "cell_type": "code",
   "execution_count": 148,
   "metadata": {},
   "outputs": [],
   "source": [
    "import torch\n",
    "import torch.nn.functional as F\n",
    "import matplotlib.pyplot as plt\n",
    "%matplotlib inline"
   ]
  },
  {
   "cell_type": "markdown",
   "metadata": {},
   "source": [
    "In the example below, we create a sample training set for a single bird name. The input sequence ($X$) is the context containing 3 characters, and the target sequence ($Y$) is the next character to predict. The model will learn to predict the next character based on the context.\n",
    "\n",
    "For the first character, the context is empty, so we use a special token `.` to indicate the start of the sequence.\n"
   ]
  },
  {
   "cell_type": "code",
   "execution_count": 149,
   "metadata": {},
   "outputs": [
    {
     "name": "stdout",
     "output_type": "stream",
     "text": [
      "abbott_s_babbler\n",
      "... -> a\n",
      "..a -> b\n",
      ".ab -> b\n",
      "abb -> o\n",
      "bbo -> t\n",
      "bot -> t\n",
      "ott -> _\n",
      "tt_ -> s\n",
      "t_s -> _\n",
      "_s_ -> b\n",
      "s_b -> a\n",
      "_ba -> b\n",
      "bab -> b\n",
      "abb -> l\n",
      "bbl -> e\n",
      "ble -> r\n",
      "ler -> .\n",
      "abbott_s_booby\n",
      "... -> a\n",
      "..a -> b\n",
      ".ab -> b\n",
      "abb -> o\n",
      "bbo -> t\n",
      "bot -> t\n",
      "ott -> _\n",
      "tt_ -> s\n",
      "t_s -> _\n",
      "_s_ -> b\n",
      "s_b -> o\n",
      "_bo -> o\n",
      "boo -> b\n",
      "oob -> y\n",
      "oby -> .\n",
      "abbott_s_starling\n",
      "... -> a\n",
      "..a -> b\n",
      ".ab -> b\n",
      "abb -> o\n",
      "bbo -> t\n",
      "bot -> t\n",
      "ott -> _\n",
      "tt_ -> s\n",
      "t_s -> _\n",
      "_s_ -> s\n",
      "s_s -> t\n",
      "_st -> a\n",
      "sta -> r\n",
      "tar -> l\n",
      "arl -> i\n",
      "rli -> n\n",
      "lin -> g\n",
      "ing -> .\n"
     ]
    }
   ],
   "source": [
    "CONTEXT_SIZE = 3\n",
    "X, Y = [], []\n",
    "\n",
    "for i, bird in enumerate(birds):\n",
    "    if i<3:\n",
    "        print(bird)\n",
    "    context = [0] * CONTEXT_SIZE\n",
    "    for ch in bird + SPECIAL_TOKEN:  # Add special token at the end\n",
    "        ix = token_to_index[ch]\n",
    "        X.append(context)\n",
    "        Y.append(ix)\n",
    "        if i < 3:\n",
    "            print(''.join([index_to_token[i] for i in context]), '->', index_to_token[ix])\n",
    "        # Update the context by shifting it and adding the new index \n",
    "        context = context[1:] + [ix]\n",
    "\n",
    "\n",
    "X = torch.tensor(X, dtype=torch.int64)\n",
    "Y = torch.tensor(Y, dtype=torch.int64)"
   ]
  },
  {
   "cell_type": "code",
   "execution_count": 150,
   "metadata": {},
   "outputs": [
    {
     "name": "stdout",
     "output_type": "stream",
     "text": [
      "Dataset information:\n",
      "X shape: torch.Size([215505, 3])\n",
      "Y shape: torch.Size([215505])\n",
      "\n",
      "First 10 examples:\n",
      "X: tensor([[ 0,  0,  0],\n",
      "        [ 0,  0,  4],\n",
      "        [ 0,  4, 18],\n",
      "        [ 4, 18, 18],\n",
      "        [18, 18, 27],\n",
      "        [18, 27,  1],\n",
      "        [27,  1,  1],\n",
      "        [ 1,  1, 12],\n",
      "        [ 1, 12, 15],\n",
      "        [12, 15, 12]])\n",
      "Y: tensor([ 4, 18, 18, 27,  1,  1, 12, 15, 12, 18])\n"
     ]
    }
   ],
   "source": [
    "print(\"Dataset information:\")\n",
    "print(\"X shape:\", X.shape)\n",
    "print(\"Y shape:\", Y.shape)\n",
    "\n",
    "print(\"\\nFirst 10 examples:\")\n",
    "print(\"X:\", X[0:10])\n",
    "print(\"Y:\", Y[0:10])"
   ]
  },
  {
   "cell_type": "markdown",
   "metadata": {},
   "source": [
    "Let's now focus on the embedding process. The embedding layer is a matrix that maps each token to a vector of fixed size. The size of the vector is called the embedding dimension. The embedding layer is initialized with random values and is trained during the training process. Below we create a random embedding matrix for our dataset."
   ]
  },
  {
   "cell_type": "code",
   "execution_count": 151,
   "metadata": {},
   "outputs": [],
   "source": [
    "n_token = len(unique_tokens) + 1\n",
    "EMBEDDING_DIM = 2\n",
    "\n",
    "C = torch.randn((n_token, EMBEDDING_DIM), dtype=torch.float32) # shape (28, EMBEDDING_DIM)"
   ]
  },
  {
   "cell_type": "markdown",
   "metadata": {},
   "source": [
    "When we want to retrieve the embedding for a specific token, we can use the token's index to look up the corresponding row in the embedding matrix. This allows us to convert tokens into their vector representations, which can then be used as input to the neural network."
   ]
  },
  {
   "cell_type": "code",
   "execution_count": 152,
   "metadata": {},
   "outputs": [
    {
     "data": {
      "text/plain": [
       "tensor([-1.0185, -1.2473])"
      ]
     },
     "execution_count": 152,
     "metadata": {},
     "output_type": "execute_result"
    }
   ],
   "source": [
    "token_to_embed = \"t\"\n",
    "token_index = token_to_index[token_to_embed]\n",
    "one_hot_encoded = F.one_hot(torch.tensor(token_index), num_classes=n_token).float() # shape (28)\n",
    "\n",
    "\n",
    "# multiply the one-hot encoded vector with the embedding matrix\n",
    "one_hot_encoded @ C # (28, 1) @ (28, EMBEDDING_DIM) -> (1, EMBEDDING_DIM)"
   ]
  },
  {
   "cell_type": "code",
   "execution_count": 153,
   "metadata": {},
   "outputs": [
    {
     "name": "stdout",
     "output_type": "stream",
     "text": [
      "Shape of embeddings of X:  torch.Size([215505, 3, 2])\n"
     ]
    }
   ],
   "source": [
    "# alternatively, we can use Pytorch indexing to get the embedding for a specific token\n",
    "print(\"Shape of embeddings of X: \", C[X].shape) # (n_examples, context_size, embedding_dim)"
   ]
  },
  {
   "cell_type": "markdown",
   "metadata": {},
   "source": [
    "At this stage of the model, the embedding layer took care of transforming the input tokens into their vector representations. However, the context shape (`(n_examples, context_size, embedding_size)`) is not compatible with the input shape of the MLP model. To make it compatible, we need to flatten the context shape into a single vector for each example so the input shape becomes `(n_examples, context_size * embedding_size)`."
   ]
  },
  {
   "cell_type": "code",
   "execution_count": 154,
   "metadata": {},
   "outputs": [
    {
     "name": "stdout",
     "output_type": "stream",
     "text": [
      "Shape of the flattened context: torch.Size([215505, 6])\n"
     ]
    }
   ],
   "source": [
    "print(\"Shape of the flattened context:\", C[X].view((-1, EMBEDDING_DIM * CONTEXT_SIZE)).shape) # flatten the context shape into a single vector for each example"
   ]
  },
  {
   "cell_type": "markdown",
   "metadata": {},
   "source": [
    "With the right input shape, we can now build the MLP model. The model consists of an embedding layer, a hidden layer with a $tanh$ activation function, and an output layer with a softmax activation function. The output layer generates the probability distribution of the next character in the sequence."
   ]
  },
  {
   "cell_type": "code",
   "execution_count": 155,
   "metadata": {},
   "outputs": [],
   "source": [
    "LAYER_SIZE = 100\n",
    "W1 = torch.randn((EMBEDDING_DIM * CONTEXT_SIZE, LAYER_SIZE), dtype=torch.float32) # shape (30, 128)\n",
    "b1 = torch.randn((LAYER_SIZE,), dtype=torch.float32) # shape (128,)"
   ]
  },
  {
   "cell_type": "code",
   "execution_count": 156,
   "metadata": {},
   "outputs": [
    {
     "name": "stdout",
     "output_type": "stream",
     "text": [
      "Shape of the output probabilities: torch.Size([215505, 29])\n"
     ]
    }
   ],
   "source": [
    "# Hidden layer\n",
    "# Note: the '+' relies on broadcasting, so the bias is added to each row of the matrix\n",
    "# (n_examples, LAYER_SIZE) + (LAYER_SIZE,) -> (n_examples, LAYER_SIZE)\n",
    "h = torch.tanh(C[X].view((-1, EMBEDDING_DIM * CONTEXT_SIZE)) @ W1 + b1) # shape (n_examples, LAYER_SIZE)\n",
    "\n",
    "# Output layer interms of weights and biases\n",
    "W2 = torch.randn((LAYER_SIZE, n_token), dtype=torch.float32) # shape (128, 28)\n",
    "b2 = torch.randn((n_token,), dtype=torch.float32) # shape (28,)\n",
    "\n",
    "# Output layer\n",
    "y = h @ W2 + b2\n",
    "# Apply softmax to get the probability distribution of the next character\n",
    "probs = F.softmax(y, dim=1) # shape (n_examples, n_token)\n",
    "\n",
    "print(\"Shape of the output probabilities:\", probs.shape) # (n_examples, n_token)"
   ]
  },
  {
   "cell_type": "markdown",
   "metadata": {},
   "source": [
    "Now we can compute the loss function. The loss function measures how well the model predicts the next character in the sequence. We will use the cross-entropy loss function, which is commonly used for classification tasks. The cross-entropy loss function compares the predicted probability distribution with the true distribution and computes the loss.\n"
   ]
  },
  {
   "cell_type": "code",
   "execution_count": 157,
   "metadata": {},
   "outputs": [
    {
     "name": "stdout",
     "output_type": "stream",
     "text": [
      "Loss: 17.092239379882812\n"
     ]
    }
   ],
   "source": [
    "loss = F.cross_entropy(y, Y) # compute the cross-entropy loss\n",
    "print(\"Loss:\", loss.item())"
   ]
  },
  {
   "cell_type": "markdown",
   "metadata": {},
   "source": [
    "We can now clean things up a bit and set up the training loop. The training loop will iterate over the dataset, compute the loss, and update the model parameters using backpropagation. We will use the Adam optimizer to update the model parameters."
   ]
  },
  {
   "cell_type": "code",
   "execution_count": 158,
   "metadata": {},
   "outputs": [],
   "source": [
    "def create_model(embedding_dim, context_size, layer_size, n_token):\n",
    "\n",
    "    g = torch.Generator().manual_seed(1234)\n",
    "\n",
    "    C = torch.randn((n_token, embedding_dim), dtype=torch.float32, generator=g) # shape (28, 10)\n",
    "    W1 = torch.randn((embedding_dim * context_size, layer_size), dtype=torch.float32, generator=g) # shape (30, 128)\n",
    "    b1 = torch.randn((layer_size,), dtype=torch.float32, generator=g) # shape (128,)\n",
    "    W2 = torch.randn((layer_size, n_token), dtype=torch.float32, generator=g) # shape (128, 28)\n",
    "    b2 = torch.randn((n_token,), dtype=torch.float32, generator=g) # shape (28,)\n",
    "\n",
    "    params = [C, W1, b1, W2, b2]\n",
    "\n",
    "    print(f\"The model has {sum(p.nelement() for p in params):,d} parameters.\")\n",
    "\n",
    "    for p in params:\n",
    "        p.requires_grad = True  # Set requires_grad to True to enable backpropagation\n",
    "\n",
    "    return params"
   ]
  },
  {
   "cell_type": "code",
   "execution_count": 159,
   "metadata": {},
   "outputs": [
    {
     "name": "stdout",
     "output_type": "stream",
     "text": [
      "The model has 3,687 parameters.\n"
     ]
    }
   ],
   "source": [
    "params = create_model(\n",
    "    embedding_dim=EMBEDDING_DIM,\n",
    "    context_size=CONTEXT_SIZE,\n",
    "    layer_size=LAYER_SIZE,\n",
    "    n_token=n_token\n",
    ")\n",
    "# Extract the parameters for easier access\n",
    "C, W1, b1, W2, b2 = params"
   ]
  },
  {
   "cell_type": "markdown",
   "metadata": {},
   "source": [
    "Because of the large size of our dataset, we will use mini-batch gradient descent to update the model parameters. This means that we will split the dataset into smaller batches and update the model parameters after each batch. This allows us to train the model faster and use less memory.\n",
    "\n",
    "In addition, we run the training with different learning rates to find the best one. The learning rate is a hyperparameter that controls how much the model parameters are updated during training. A small learning rate will result in slow convergence, while a large learning rate can cause the model to diverge. We will use a logarithmic scale to explore the learning rates.\n",
    "\n",
    "Finally, we will plot the loss against the learning rate to visualize the effect of the learning rate on the model's performance."
   ]
  },
  {
   "cell_type": "code",
   "execution_count": 160,
   "metadata": {},
   "outputs": [],
   "source": [
    "# training parameters\n",
    "BATCH_SIZE = 32\n",
    "lr_e = torch.linspace(-3, 0, 1000)  # Learning rates to test\n",
    "lrs = 10 ** lr_e  # Convert to actual learning rates"
   ]
  },
  {
   "cell_type": "code",
   "execution_count": 161,
   "metadata": {},
   "outputs": [
    {
     "name": "stdout",
     "output_type": "stream",
     "text": [
      "Final loss: 6.695342540740967\n"
     ]
    }
   ],
   "source": [
    "lri = []\n",
    "lossi = []\n",
    "\n",
    "for i in range(1000):\n",
    "\n",
    "    # minibatch index\n",
    "    ix = torch.randint(0, X.shape[0], (BATCH_SIZE,))  # Randomly sample BATCH_SIZE indices, shape (BATCH_SIZE,)\n",
    "\n",
    "    # Forward pass\n",
    "    h = torch.tanh(C[X[ix]].view((-1, EMBEDDING_DIM * CONTEXT_SIZE)) @ W1 + b1)  # shape (BATCH_SIZE, LAYER_SIZE)\n",
    "    logits = h @ W2 + b2  # shape (BATCH_SIZE, n_token)\n",
    "    loss = F.cross_entropy(logits, Y[ix])  # compute the cross-entropy loss\n",
    "\n",
    "    # Backward pass\n",
    "    for p in params:\n",
    "        p.grad = None  # Reset gradients to zero before backpropagation\n",
    "    loss.backward()  # Compute gradients\n",
    "\n",
    "    # Update parameters using gradient descent\n",
    "    lr = lrs[i]\n",
    "    for p in params:\n",
    "        p.data -= lr * p.grad  # Update parameters with a learning rate of 0.01\n",
    "\n",
    "    # log the learning rate and loss\n",
    "    lri.append(lr.item())\n",
    "    lossi.append(loss.item())\n",
    "\n",
    "# evaluate the final loss\n",
    "with torch.no_grad():\n",
    "    h = torch.tanh(C[X].view((-1, EMBEDDING_DIM * CONTEXT_SIZE)) @ W1 + b1)  # shape (n_examples, LAYER_SIZE)\n",
    "    logits = h @ W2 + b2  # shape (n_examples, n_token)\n",
    "    loss = F.cross_entropy(logits, Y)  # compute the cross-entropy loss\n",
    "    print(f\"Final loss: {loss.item()}\")  # Print the final loss value"
   ]
  },
  {
   "cell_type": "code",
   "execution_count": 162,
   "metadata": {},
   "outputs": [
    {
     "data": {
      "image/png": "[encoded data removed]",
      "text/plain": [
       "<Figure size 640x480 with 1 Axes>"
      ]
     },
     "metadata": {},
     "output_type": "display_data"
    }
   ],
   "source": [
    "plt.plot(lri, lossi)\n",
    "plt.xlabel(\"Learning Rate (log scale)\")\n",
    "plt.ylabel(\"Loss\")\n",
    "plt.title(\"Loss vs Learning Rate\")\n",
    "plt.xscale(\"log\")\n",
    "plt.show()"
   ]
  },
  {
   "cell_type": "markdown",
   "metadata": {},
   "source": [
    "The ideal learning rate lies around 0.1."
   ]
  },
  {
   "cell_type": "code",
   "execution_count": 165,
   "metadata": {},
   "outputs": [
    {
     "name": "stdout",
     "output_type": "stream",
     "text": [
      "The model has 3,687 parameters.\n"
     ]
    }
   ],
   "source": [
    "# mode reset\n",
    "params = create_model(\n",
    "    embedding_dim=EMBEDDING_DIM,\n",
    "    context_size=CONTEXT_SIZE,\n",
    "    layer_size=LAYER_SIZE,\n",
    "    n_token=n_token\n",
    ")\n",
    "C, W1, b1, W2, b2 = params"
   ]
  },
  {
   "cell_type": "code",
   "execution_count": 166,
   "metadata": {},
   "outputs": [],
   "source": [
    "LEARNING_RATE = 0.1"
   ]
  },
  {
   "cell_type": "code",
   "execution_count": 179,
   "metadata": {},
   "outputs": [],
   "source": [
    "def train_model(params, learning_rate_decay=0.1, n_steps=10000):\n",
    "    C, W1, b1, W2, b2 = params\n",
    "    for _ in range(n_steps):\n",
    "        # minibatch index\n",
    "        ix = torch.randint(0, X.shape[0], (BATCH_SIZE,))  # Randomly sample BATCH_SIZE indices, shape (BATCH_SIZE,)\n",
    "\n",
    "        # Forward pass\n",
    "        h = torch.tanh(C[X[ix]].view((-1, EMBEDDING_DIM * CONTEXT_SIZE)) @ W1 + b1)  # shape (BATCH_SIZE, LAYER_SIZE)\n",
    "        logits = h @ W2 + b2  # shape (BATCH_SIZE, n_token)\n",
    "        loss = F.cross_entropy(logits, Y[ix])  # compute the cross-entropy loss\n",
    "\n",
    "        # Backward pass\n",
    "        for p in params:\n",
    "            p.grad = None  # Reset gradients to zero before backpropagation\n",
    "        loss.backward()  # Compute gradients\n",
    "\n",
    "        # Update parameters using gradient descent\n",
    "        for p in params:\n",
    "            p.data -= LEARNING_RATE * learning_rate_decay * p.grad  # Update parameters with the defined learning rate\n",
    "\n",
    "    # evaluate the final loss\n",
    "    with torch.no_grad():\n",
    "        h = torch.tanh(C[X].view((-1, EMBEDDING_DIM * CONTEXT_SIZE)) @ W1 + b1)  # shape (n_examples, LAYER_SIZE)\n",
    "        logits = h @ W2 + b2  # shape (n_examples, n_token)\n",
    "        loss = F.cross_entropy(logits, Y)  # compute the cross-entropy loss\n",
    "        print(f\"Final loss: {loss.item():,.3f}\")  # Print the final loss value"
   ]
  },
  {
   "cell_type": "code",
   "execution_count": null,
   "metadata": {},
   "outputs": [
    {
     "name": "stdout",
     "output_type": "stream",
     "text": [
      "Final loss: 2.429\n",
      "Final loss: 2.290\n",
      "Final loss: 2.196\n"
     ]
    }
   ],
   "source": [
    "# one phase with the full learning rate and then a second phase with a lower learning rate\n",
    "train_model(params, learning_rate_decay=1, n_steps=20000)\n",
    "train_model(params, learning_rate_decay=0.1, n_steps=10000)"
   ]
  },
  {
   "cell_type": "markdown",
   "metadata": {},
   "source": [
    "At this stage, the training phase is only evaluated on the training data. However, to truly assess the model's performance, we should also evaluate it on a validation set. This will help us understand how well the model generalizes to unseen data and prevent overfitting. Let's now re-write sone of the data processing codes to allow for the training set to be broken down into a training, a development, and a test set. The training set will be used to train the model, the development set will be used to tune the hyperparameters, and the test set will be used to evaluate the model's performance."
   ]
  },
  {
   "cell_type": "code",
   "execution_count": 169,
   "metadata": {},
   "outputs": [
    {
     "name": "stdout",
     "output_type": "stream",
     "text": [
      "Training set shape: torch.Size([172513, 3]) torch.Size([172513])\n",
      "Development set shape: torch.Size([21531, 3]) torch.Size([21531])\n",
      "Test set shape: torch.Size([21461, 3]) torch.Size([21461])\n"
     ]
    }
   ],
   "source": [
    "import random\n",
    "\n",
    "def build_datasets(words: list[str]) -> tuple[torch.Tensor, torch.Tensor]:\n",
    "    \"\"\"\n",
    "    Build datasets from a list of words by creating input and target tensors.\n",
    "    \n",
    "    Args:\n",
    "        words (list[str]): List of words to build the datasets from.\n",
    "        \n",
    "    Returns:\n",
    "        tuple[torch.Tensor, torch.Tensor]: Tuple containing the input tensor X and target tensor Y.\n",
    "    \"\"\"\n",
    "    # Create a mapping from tokens to indices\n",
    "    X, Y = [], []\n",
    "    \n",
    "    # Create the context for each character in the words\n",
    "    for w in words:\n",
    "        context = [0] * CONTEXT_SIZE\n",
    "        for ch in w + SPECIAL_TOKEN:  # Add special token at the end\n",
    "            ix = token_to_index[ch]\n",
    "            X.append(context)\n",
    "            Y.append(ix)\n",
    "            if i < 3:\n",
    "                print(''.join([index_to_token[i] for i in context]), '->', index_to_token[ix])\n",
    "            # Update the context by shifting it and adding the new index \n",
    "            context = context[1:] + [ix]\n",
    "\n",
    "    # Convert lists to tensors\n",
    "    X = torch.tensor(X, dtype=torch.int64)\n",
    "    Y = torch.tensor(Y, dtype=torch.int64)\n",
    "\n",
    "    return X, Y\n",
    "    \n",
    "# Shuffle the words\n",
    "random.seed(1234)\n",
    "random.shuffle(birds)\n",
    "\n",
    "# Split the dataset into training, development, and test sets\n",
    "train_size = int(0.8 * len(birds))\n",
    "dev_size = int(0.1 * len(birds))\n",
    "\n",
    "X_train, Y_train = build_datasets(birds[:train_size])\n",
    "X_dev, Y_dev = build_datasets(birds[train_size:train_size + dev_size])\n",
    "X_test, Y_test = build_datasets(birds[train_size + dev_size:])\n",
    "\n",
    "# print tensor shapes\n",
    "print(\"Training set shape:\", X_train.shape, Y_train.shape)\n",
    "print(\"Development set shape:\", X_dev.shape, Y_dev.shape)\n",
    "print(\"Test set shape:\", X_test.shape, Y_test.shape)\n"
   ]
  },
  {
   "cell_type": "code",
   "execution_count": 170,
   "metadata": {},
   "outputs": [
    {
     "name": "stdout",
     "output_type": "stream",
     "text": [
      "The model has 3,687 parameters.\n"
     ]
    }
   ],
   "source": [
    "# mode reset\n",
    "params = create_model(\n",
    "    embedding_dim=EMBEDDING_DIM,\n",
    "    context_size=CONTEXT_SIZE,\n",
    "    layer_size=LAYER_SIZE,\n",
    "    n_token=n_token\n",
    ")\n",
    "C, W1, b1, W2, b2 = params"
   ]
  },
  {
   "cell_type": "code",
   "execution_count": null,
   "metadata": {},
   "outputs": [
    {
     "name": "stdout",
     "output_type": "stream",
     "text": [
      "Final loss: 2.428\n",
      "Final loss: 2.276\n",
      "Final loss: 2.172\n"
     ]
    }
   ],
   "source": [
    "# train the model\n",
    "# one phase with the full learning rate and then a second phase with a lower learning rate\n",
    "train_model(params, learning_rate_decay=1, n_steps=20000)\n",
    "train_model(params, learning_rate_decay=0.1, n_steps=10000)"
   ]
  },
  {
   "cell_type": "code",
   "execution_count": 172,
   "metadata": {},
   "outputs": [
    {
     "name": "stdout",
     "output_type": "stream",
     "text": [
      "Final loss: 2.173\n"
     ]
    }
   ],
   "source": [
    "# evaluate the final loss on the development set\n",
    "with torch.no_grad():\n",
    "    h = torch.tanh(C[X_dev].view((-1, EMBEDDING_DIM * CONTEXT_SIZE)) @ W1 + b1)  # shape (n_examples, LAYER_SIZE)\n",
    "    logits = h @ W2 + b2  # shape (n_examples, n_token)\n",
    "    loss = F.cross_entropy(logits, Y_dev)  # compute the cross-entropy loss\n",
    "    print(f\"Final loss: {loss.item():,.3f}\")  # Print the final loss value"
   ]
  },
  {
   "cell_type": "markdown",
   "metadata": {},
   "source": [
    "The train loss and dev loss are almost identical. This suggests that the model is generalizing well and not overfitting to the training data.\n",
    "When the training loss and the dev loss are close to each other, it indicates that the model is underfitting. This means that the model is not complex enough to capture the underlying patterns in the data. One solution to this problem is to increase the model's capacity by adding more layers or increasing the number of neurons in the hidden layer."
   ]
  },
  {
   "cell_type": "code",
   "execution_count": 188,
   "metadata": {},
   "outputs": [
    {
     "name": "stdout",
     "output_type": "stream",
     "text": [
      "The model has 18,087 parameters.\n"
     ]
    }
   ],
   "source": [
    "# reset the size of the hidden layer\n",
    "LAYER_SIZE = 500\n",
    "\n",
    "# mode reset\n",
    "params = create_model(\n",
    "    embedding_dim=EMBEDDING_DIM,\n",
    "    context_size=CONTEXT_SIZE,\n",
    "    layer_size=LAYER_SIZE,\n",
    "    n_token=n_token\n",
    ")\n",
    "C, W1, b1, W2, b2 = params"
   ]
  },
  {
   "cell_type": "code",
   "execution_count": 192,
   "metadata": {},
   "outputs": [
    {
     "name": "stdout",
     "output_type": "stream",
     "text": [
      "Final loss: 1.751\n",
      "Final loss: 1.551\n",
      "Final loss: 1.424\n"
     ]
    }
   ],
   "source": [
    "# train the model\n",
    "# one phase with the full learning rate and then using lower learning rates\n",
    "train_model(params, learning_rate_decay=1, n_steps=70000)\n",
    "train_model(params, learning_rate_decay=0.5, n_steps=20000)\n",
    "train_model(params, learning_rate_decay=0.1, n_steps=10000)"
   ]
  },
  {
   "cell_type": "code",
   "execution_count": 193,
   "metadata": {},
   "outputs": [
    {
     "name": "stdout",
     "output_type": "stream",
     "text": [
      "Final loss: 1.421\n"
     ]
    }
   ],
   "source": [
    "# evaluate the final loss on the development set\n",
    "with torch.no_grad():\n",
    "    h = torch.tanh(C[X_dev].view((-1, EMBEDDING_DIM * CONTEXT_SIZE)) @ W1 + b1)  # shape (n_examples, LAYER_SIZE)\n",
    "    logits = h @ W2 + b2  # shape (n_examples, n_token)\n",
    "    loss = F.cross_entropy(logits, Y_dev)  # compute the cross-entropy loss\n",
    "    print(f\"Final loss: {loss.item():,.3f}\")  # Print the final loss value"
   ]
  },
  {
   "cell_type": "code",
   "execution_count": 197,
   "metadata": {},
   "outputs": [
    {
     "data": {
      "image/png": "[encoded data removed]",
      "text/plain": [
       "<Figure size 600x600 with 1 Axes>"
      ]
     },
     "metadata": {},
     "output_type": "display_data"
    }
   ],
   "source": [
    "# visualize the embeddings\n",
    "import matplotlib.pyplot as plt\n",
    "plt.figure(figsize=(6, 6))\n",
    "plt.scatter(C[:, 0].data, C[:, 1].data, c='blue', alpha=0.5, s=200)\n",
    "for i in range(C.shape[0]):\n",
    "    plt.text(C[i, 0].item(), C[i, 1].item(), index_to_token[i], fontsize=8, alpha=0.7, ha='center', va='center', color='black')\n",
    "\n",
    "plt.grid('minor')\n"
   ]
  },
  {
   "cell_type": "markdown",
   "metadata": {},
   "source": [
    "From the above chart, we can see that:\n",
    "- all the vowels are clustered together along the same line, which is expected as they are all similar characters.\n",
    "- `\"q\"` is isolated from the other characters, which is also expected as it is a rare character."
   ]
  },
  {
   "cell_type": "markdown",
   "metadata": {},
   "source": [
    "Let's now increase the embedding dimension to 64 and re-run the training. This will allow the model to learn more complex patterns in the data and improve its performance."
   ]
  },
  {
   "cell_type": "code",
   "execution_count": 217,
   "metadata": {},
   "outputs": [
    {
     "name": "stdout",
     "output_type": "stream",
     "text": [
      "The model has 30,319 parameters.\n"
     ]
    }
   ],
   "source": [
    "# reset the size of the hidden layer\n",
    "LAYER_SIZE = 500\n",
    "EMBEDDING_DIM = 10\n",
    "\n",
    "# mode reset\n",
    "params = create_model(\n",
    "    embedding_dim=EMBEDDING_DIM,\n",
    "    context_size=CONTEXT_SIZE,\n",
    "    layer_size=LAYER_SIZE,\n",
    "    n_token=n_token\n",
    ")\n",
    "C, W1, b1, W2, b2 = params"
   ]
  },
  {
   "cell_type": "code",
   "execution_count": 218,
   "metadata": {},
   "outputs": [
    {
     "name": "stdout",
     "output_type": "stream",
     "text": [
      "Final loss: 1.576\n",
      "Final loss: 1.337\n",
      "Final loss: 1.241\n"
     ]
    }
   ],
   "source": [
    "# train the model\n",
    "# one phase with the full learning rate and then using lower learning rates\n",
    "train_model(params, learning_rate_decay=1, n_steps=100000)\n",
    "train_model(params, learning_rate_decay=0.5, n_steps=20000)\n",
    "train_model(params, learning_rate_decay=0.1, n_steps=20000)"
   ]
  },
  {
   "cell_type": "code",
   "execution_count": 219,
   "metadata": {},
   "outputs": [
    {
     "name": "stdout",
     "output_type": "stream",
     "text": [
      "Final loss: 1.230\n"
     ]
    }
   ],
   "source": [
    "# evaluate the final loss on the development set\n",
    "with torch.no_grad():\n",
    "    h = torch.tanh(C[X_dev].view((-1, EMBEDDING_DIM * CONTEXT_SIZE)) @ W1 + b1)  # shape (n_examples, LAYER_SIZE)\n",
    "    logits = h @ W2 + b2  # shape (n_examples, n_token)\n",
    "    loss = F.cross_entropy(logits, Y_dev)  # compute the cross-entropy loss\n",
    "    print(f\"Final loss: {loss.item():,.3f}\")  # Print the final loss value"
   ]
  },
  {
   "cell_type": "markdown",
   "metadata": {},
   "source": [
    "We can now sample new bird names from the model. The model will generate a sequence of characters based on the context and the learned patterns in the data. The generated sequence will be a valid bird name, as it will follow the same patterns as the training data."
   ]
  },
  {
   "cell_type": "code",
   "execution_count": 223,
   "metadata": {},
   "outputs": [
    {
     "name": "stdout",
     "output_type": "stream",
     "text": [
      "white_earwater.\n",
      "blackered_eaglaughing.\n",
      "paler.\n",
      "southat.\n",
      "flamed_scopknia.\n",
      "hoftta.\n",
      "commonary.\n",
      "long_thicker.\n",
      "ochrike_vireo.\n",
      "monduline_fantshrike.\n"
     ]
    }
   ],
   "source": [
    "# sample new bird names from the model\n",
    "for i in range(10):\n",
    "    context = [0] * CONTEXT_SIZE\n",
    "    out = []\n",
    "    while True:\n",
    "        # Convert context to tensor and get embeddings\n",
    "        context_tensor = torch.tensor(context, dtype=torch.int64).unsqueeze(0)  # shape (1, CONTEXT_SIZE)\n",
    "        h = torch.tanh(C[context_tensor].view((-1, EMBEDDING_DIM * CONTEXT_SIZE)) @ W1 + b1)  # shape (1, LAYER_SIZE)\n",
    "        logits = h @ W2 + b2  # shape (1, n_token)\n",
    "        probs = F.softmax(logits, dim=1)  # shape (1, n_token)\n",
    "\n",
    "        # Sample from the distribution\n",
    "        ix = torch.multinomial(probs, num_samples=1).item()  # Get the index of the sampled token\n",
    "        out.append(index_to_token[ix])  # Append the token to the output\n",
    "\n",
    "        if ix == token_to_index[SPECIAL_TOKEN]:  # Stop if we hit the special token\n",
    "            break\n",
    "\n",
    "        # Update the context by shifting it and adding the new index \n",
    "        context = context[1:] + [ix]\n",
    "\n",
    "    print(''.join(out))  # Print the generated bird name"
   ]
  },
  {
   "cell_type": "markdown",
   "metadata": {},
   "source": [
    "## References\n",
    "\n",
    "- Yoshua Bengio, Réjean Ducharme, Pascal Vincent, and Christian Janvin. 2003. A neural probabilistic language model. J. Mach. Learn. Res. 3, null (3/1/2003), 1137–1155."
   ]
  }
 ],
 "metadata": {
  "kernelspec": {
   "display_name": "gpt_bot-3.10",
   "language": "python",
   "name": "python3"
  },
  "language_info": {
   "codemirror_mode": {
    "name": "ipython",
    "version": 3
   },
   "file_extension": ".py",
   "mimetype": "text/x-python",
   "name": "python",
   "nbconvert_exporter": "python",
   "pygments_lexer": "ipython3",
   "version": "3.10.16"
  }
 },
 "nbformat": 4,
 "nbformat_minor": 2
}
