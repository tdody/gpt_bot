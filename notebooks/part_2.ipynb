{
 "cells": [
  {
   "cell_type": "markdown",
   "metadata": {},
   "source": [
    "# Road to Generative AI - Part 2: Multi-Layer Perceptron\n",
    "\n",
    "## Introduction\n",
    "\n",
    "The purpose of this notebook is to explore the capabilities of Generative AI. In the [first part](https://tdody.github.io//bigram-and-nn/) of this series, we explored the concept of Generative AI and built a simple model that generates text using a bigram model and a single-layer NN. In this part, we will build a more complex model using Multi-Layer Perceptron (MLP) to generate text.\n",
    "\n",
    "The reason behind using MLP is that N-gram models suffer from the curse of dimensionality. As the size of the n-gram increases, the number of possible n-grams grows exponentially. This makes it difficult to store and process the n-grams. In contrast, MLP can learn the patterns in the data and generate text without the need to store all possible n-grams.\n",
    "\n",
    "In the paper \"A Neural Probabilistic Language Model\" by Yoshua Bengio et al., the authors proposed a neural network-based language model that can learn to predict the next word in a sentence. We are going to use a similar approach but our focus is on generating the next character in a sequence of characters.\n",
    "\n",
    "## Dataset\n",
    "\n",
    "Just like the first part, we will use the names of the characters in the Lord of the Rings series as our dataset. Our source data can be found [here](https://www.kaggle.com/paultimothymooney/lord-of-the-rings-data)."
   ]
  },
  {
   "cell_type": "code",
   "execution_count": 2,
   "metadata": {},
   "outputs": [
    {
     "name": "stdout",
     "output_type": "stream",
     "text": [
      "['Adanel', 'Boromir', 'Lagduf', 'Tarcil', 'Fire drake of Gondolin', 'Ar Adûnakhôr', 'Annael', 'Angrod', 'Angrim', 'Anárion']\n",
      "There are 905 characters in the dataset.\n",
      "The shortest character name has 3 characters.\n",
      "The longest character name has 31 characters.\n"
     ]
    }
   ],
   "source": [
    "DATASET_PATH = \"./datasets/lotr/lotr_characters_names.csv\"\n",
    "\n",
    "characters = open(DATASET_PATH, \"r\").read().splitlines()\n",
    "\n",
    "print(characters[0:10])\n",
    "print(f\"There are {len(characters)} characters in the dataset.\")\n",
    "\n",
    "min_length = map(len, characters)\n",
    "max_length = map(len, characters)\n",
    "print(f\"The shortest character name has {min(min_length)} characters.\")\n",
    "print(f\"The longest character name has {max(max_length)} characters.\")"
   ]
  },
  {
   "cell_type": "code",
   "execution_count": 6,
   "metadata": {},
   "outputs": [],
   "source": [
    "from unidecode import unidecode\n",
    "\n",
    "def clean_name(name):\n",
    "    # Remove leading and trailing whitespaces\n",
    "    # Convert to lowercase\n",
    "    # Remove accents\n",
    "    # Remove special characters\n",
    "    # Replace spaces with underscores\n",
    "\n",
    "    name = name.strip().lower()\n",
    "    name = name.replace(\" \", \"_\")\n",
    "    name = unidecode(name)\n",
    "    return name\n",
    "\n",
    "characters = list(map(clean_name, characters))\n",
    "\n",
    "# create a mapping from tokens to indices\n",
    "unique_tokens = set([c for w in characters for c in w])\n",
    "SPECIAL_TOKEN = \"<.>\"\n",
    "index_to_token = {i: t for i, t in enumerate(unique_tokens, start=1)}\n",
    "token_to_index = {v: k for k, v in index_to_token.items()}\n",
    "index_to_token[0] = SPECIAL_TOKEN\n",
    "token_to_index[SPECIAL_TOKEN] = 0"
   ]
  },
  {
   "cell_type": "markdown",
   "metadata": {},
   "source": [
    "## Model Architecture\n",
    "\n",
    "The figure below shows the architecture of the MLP model. The model consists of an embedding layer $C$. The embeddings are fed into a hidden layer $H$ with a $tanh$ activation function. The output of the hidden layer is fed into the output layer $O$ with a softmax activation function. The output layer generates the probability distribution of the next character in the sequence.\n",
    "\n",
    "<figure>\n",
    "    <img src=\"./assets/MLP_architecture.png\" width=\"500\"/>\n",
    "    <figcaption>Neural architecture</figcaption>\n",
    "</figure>"
   ]
  },
  {
   "cell_type": "markdown",
   "metadata": {},
   "source": [
    "## References\n",
    "\n",
    "- Yoshua Bengio, Réjean Ducharme, Pascal Vincent, and Christian Janvin. 2003. A neural probabilistic language model. J. Mach. Learn. Res. 3, null (3/1/2003), 1137–1155."
   ]
  },
  {
   "cell_type": "markdown",
   "metadata": {},
   "source": []
  }
 ],
 "metadata": {
  "kernelspec": {
   "display_name": ".venv",
   "language": "python",
   "name": "python3"
  },
  "language_info": {
   "codemirror_mode": {
    "name": "ipython",
    "version": 3
   },
   "file_extension": ".py",
   "mimetype": "text/x-python",
   "name": "python",
   "nbconvert_exporter": "python",
   "pygments_lexer": "ipython3",
   "version": "3.10.16"
  }
 },
 "nbformat": 4,
 "nbformat_minor": 2
}
