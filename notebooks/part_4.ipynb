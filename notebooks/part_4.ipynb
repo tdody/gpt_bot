{
 "cells": [
  {
   "cell_type": "code",
   "execution_count": 22,
   "id": "65efbc06",
   "metadata": {},
   "outputs": [],
   "source": [
    "import torch\n",
    "import torch.nn.functional as F\n",
    "import matplotlib.pyplot as plt\n",
    "import random\n",
    "%matplotlib inline"
   ]
  },
  {
   "cell_type": "code",
   "execution_count": 23,
   "id": "201af8ca",
   "metadata": {},
   "outputs": [
    {
     "name": "stdout",
     "output_type": "stream",
     "text": [
      "First 10 birds in the dataset:\n",
      "\n",
      "Abbott's babbler, Abbott's booby, Abbott's starling, Abbott's sunbird, Abd al-Kuri sparrow, Abdim's stork, Aberdare cisticola, Aberrant bush warbler, Abert's towhee, Abyssinian catbird\n",
      "There are 10,976 birds in the dataset.\n",
      "\n",
      "The shortest character name has 3 characters.\n",
      "The longest character name has 35 characters.\n"
     ]
    }
   ],
   "source": [
    "DATASET_PATH = \"./datasets/birds/birds.csv\"\n",
    "\n",
    "birds = open(DATASET_PATH, \"r\").read().splitlines()\n",
    "\n",
    "print(\"First 10 birds in the dataset:\\n\")\n",
    "print(\", \".join(birds[:10]))\n",
    "print(f\"There are {len(birds):,d} birds in the dataset.\")\n",
    "\n",
    "min_length = map(len, birds)\n",
    "max_length = map(len, birds)\n",
    "print(f\"\\nThe shortest character name has {min(min_length)} characters.\")\n",
    "print(f\"The longest character name has {max(max_length)} characters.\")"
   ]
  },
  {
   "cell_type": "code",
   "execution_count": 24,
   "id": "6f9a66f6",
   "metadata": {},
   "outputs": [],
   "source": [
    "from unidecode import unidecode\n",
    "\n",
    "def clean_name(name):\n",
    "    \"\"\"\n",
    "    Clean the bird name by:\n",
    "    - Removing leading and trailing whitespaces\n",
    "    - Converting to lowercase\n",
    "    - Removing accents\n",
    "    - Removing special characters\n",
    "    - Replacing spaces with underscores\n",
    "    \"\"\"\n",
    "\n",
    "    name = name.strip().lower()\n",
    "    # replace special characters with a space\n",
    "    name = ''.join(char if char.isalnum() or char.isspace() else ' ' for char in name)\n",
    "    name = name.replace(\"`\", \"_\")  # Remove apostrophes\n",
    "    name = name.replace(\" \", \"_\")\n",
    "    name = unidecode(name)\n",
    "    return name"
   ]
  },
  {
   "cell_type": "code",
   "execution_count": 25,
   "id": "ebb73e73",
   "metadata": {},
   "outputs": [
    {
     "name": "stdout",
     "output_type": "stream",
     "text": [
      "Number of unique tokens: 28\n",
      "_, `, a, b, c, d, e, f, g, h, i, j, k, l, m, n, o, p, q, r, s, t, u, v, w, x, y, z\n",
      "\n",
      "Token mapping: {1: 'd', 2: 'p', 3: 'g', 4: 'r', 5: 'z', 6: 'w', 7: 'n', 8: 'u', 9: 'o', 10: 'h', 11: 'i', 12: 'c', 13: 'k', 14: 'b', 15: 't', 16: 's', 17: 'x', 18: 'y', 19: 'j', 20: 'a', 21: 'v', 22: '_', 23: 'l', 24: 'q', 25: '`', 26: 'm', 27: 'f', 28: 'e', 0: '.'}\n"
     ]
    }
   ],
   "source": [
    "# clean all names in the dataset\n",
    "birds = list(map(clean_name, birds))\n",
    "\n",
    "# create a mapping from tokens to indices\n",
    "unique_tokens = set([c for w in birds for c in w])\n",
    "SPECIAL_TOKEN = \".\"\n",
    "index_to_token = {i: t for i, t in enumerate(unique_tokens, start=1)}\n",
    "token_to_index = {v: k for k, v in index_to_token.items()}\n",
    "index_to_token[0] = SPECIAL_TOKEN\n",
    "token_to_index[SPECIAL_TOKEN] = 0\n",
    "vocab_size = len(unique_tokens) + 1\n",
    "\n",
    "# log information about the tokenization\n",
    "print(f\"Number of unique tokens: {len(unique_tokens)}\")\n",
    "print(\", \".join(sorted(unique_tokens)))\n",
    "print(f\"\\nToken mapping: {index_to_token}\")"
   ]
  },
  {
   "cell_type": "code",
   "execution_count": 26,
   "id": "65287c85",
   "metadata": {},
   "outputs": [],
   "source": [
    "# Model parameters\n",
    "CONTEXT_SIZE = 3\n",
    "N_EMBEDDINGS = 10\n",
    "N_HIDDEN = 64\n",
    "N_TOKEN = len(token_to_index)\n",
    "\n",
    "# Training parameters\n",
    "TRAINING_SET_PORTION = 0.8\n",
    "DEVELOPMENT_SET_PORTION = 0.1\n",
    "TEST_SET_PORTION = 1 - (TRAINING_SET_PORTION + DEVELOPMENT_SET_PORTION)"
   ]
  },
  {
   "cell_type": "code",
   "execution_count": 27,
   "id": "98a0cff5",
   "metadata": {},
   "outputs": [
    {
     "name": "stdout",
     "output_type": "stream",
     "text": [
      "Training set shape: torch.Size([172513, 3]) torch.Size([172513])\n",
      "Development set shape: torch.Size([21531, 3]) torch.Size([21531])\n",
      "Test set shape: torch.Size([21461, 3]) torch.Size([21461])\n"
     ]
    }
   ],
   "source": [
    "def build_datasets(words: list[str]) -> tuple[torch.Tensor, torch.Tensor]:\n",
    "    \"\"\"\n",
    "    Build datasets from a list of words by creating input and target tensors.\n",
    "    \n",
    "    Args:\n",
    "        words (list[str]): List of words to build the datasets from.\n",
    "        \n",
    "    Returns:\n",
    "        tuple[torch.Tensor, torch.Tensor]: Tuple containing the input tensor X and target tensor Y.\n",
    "    \"\"\"\n",
    "    # Create a mapping from tokens to indices\n",
    "    X, Y = [], []\n",
    "    \n",
    "    # Create the context for each character in the words\n",
    "    for w in words:\n",
    "        context = [0] * CONTEXT_SIZE\n",
    "        for ch in w + SPECIAL_TOKEN:  # Add special token at the end\n",
    "            ix = token_to_index[ch]\n",
    "            X.append(context)\n",
    "            Y.append(ix)\n",
    "            # Update the context by shifting it and adding the new index \n",
    "            context = context[1:] + [ix]\n",
    "\n",
    "    # Convert lists to tensors\n",
    "    X = torch.tensor(X, dtype=torch.int64)\n",
    "    Y = torch.tensor(Y, dtype=torch.int64)\n",
    "\n",
    "    return X, Y\n",
    "    \n",
    "# Shuffle the words\n",
    "random.seed(1234)\n",
    "random.shuffle(birds)\n",
    "\n",
    "# Split the dataset into training, development, and test sets\n",
    "train_size = int(TRAINING_SET_PORTION * len(birds))\n",
    "dev_size = int(DEVELOPMENT_SET_PORTION * len(birds))\n",
    "\n",
    "X_train, Y_train = build_datasets(birds[:train_size])\n",
    "X_dev, Y_dev = build_datasets(birds[train_size:train_size + dev_size])\n",
    "X_test, Y_test = build_datasets(birds[train_size + dev_size:])\n",
    "\n",
    "# print tensor shapes\n",
    "print(\"Training set shape:\", X_train.shape, Y_train.shape)\n",
    "print(\"Development set shape:\", X_dev.shape, Y_dev.shape)\n",
    "print(\"Test set shape:\", X_test.shape, Y_test.shape)"
   ]
  },
  {
   "cell_type": "code",
   "execution_count": 28,
   "id": "0f0f0b6e",
   "metadata": {},
   "outputs": [],
   "source": [
    "def cmp(s, dt, t):\n",
    "    \"\"\"\n",
    "    Compare the true gradient dt and the approximate gradient t.grad.\n",
    "    Print the results in a table format.\n",
    "    \"\"\"\n",
    "    assert t.grad.shape == dt.shape, f\"Shape mismatch: expected {t.grad.shape}, got {dt.shape}\"\n",
    "\n",
    "    exact = torch.all(dt==t.grad).item()\n",
    "    approx = torch.allclose(dt, t.grad)\n",
    "    max_diff = (dt - t.grad).abs().max().item()\n",
    "    print(f'{s:15s} | exact: {str(exact):5s} | approximate: {str(approx):5s} | maxdiff: {max_diff}')"
   ]
  },
  {
   "cell_type": "code",
   "execution_count": 29,
   "id": "9e74b94d",
   "metadata": {},
   "outputs": [
    {
     "name": "stdout",
     "output_type": "stream",
     "text": [
      "Model size: 4,287\n"
     ]
    }
   ],
   "source": [
    "g = torch.Generator().manual_seed(123456789) # for reproducibility\n",
    "\n",
    "# Embedding matrix\n",
    "C = torch.randn((N_TOKEN, N_EMBEDDINGS), generator=g)\n",
    "\n",
    "# Layer 1\n",
    "W1 = torch.randn((N_EMBEDDINGS * CONTEXT_SIZE, N_HIDDEN), generator=g) * (5/3) / (N_EMBEDDINGS * CONTEXT_SIZE)**0.5\n",
    "b1 = torch.randn(N_HIDDEN, generator=g) * 0.1\n",
    "\n",
    "# Layer 2\n",
    "W2 = torch.randn((N_HIDDEN, N_TOKEN), generator=g) * 0.1\n",
    "b2 = torch.randn(N_TOKEN, generator=g) * 0.1\n",
    "\n",
    "# Batch normalization\n",
    "bngain = torch.randn((1, N_HIDDEN), generator=g) * 0.1 + 1.0\n",
    "bnbias = torch.randn((1, N_HIDDEN), generator=g) * 0.1\n",
    "\n",
    "# Parameters\n",
    "parameters = [C, W1, b1, W2, b2, bngain, bnbias]\n",
    "\n",
    "# Model size\n",
    "print(f\"Model size: {sum(p.numel() for p in parameters):,}\")\n",
    "\n",
    "# Turn on gradient tracking\n",
    "for p in parameters:\n",
    "    p.requires_grad = True"
   ]
  },
  {
   "cell_type": "code",
   "execution_count": 30,
   "id": "a60d749c",
   "metadata": {},
   "outputs": [],
   "source": [
    "batch_size = 32\n",
    "ix = torch.randint(0, X_train.shape[0], (batch_size,), generator=g)\n",
    "Xb, Yb = X_train[ix], Y_train[ix]"
   ]
  },
  {
   "cell_type": "code",
   "execution_count": 31,
   "id": "bafa5d9d",
   "metadata": {},
   "outputs": [
    {
     "data": {
      "text/plain": [
       "tensor(3.4834, grad_fn=<NegBackward0>)"
      ]
     },
     "execution_count": 31,
     "metadata": {},
     "output_type": "execute_result"
    }
   ],
   "source": [
    "# Forward pass on a single batch\n",
    "n = batch_size\n",
    "emb = C[Xb]                                            # shape (batch_size, context_size, embedding_size)\n",
    "embcat = emb.view(emb.shape[0], -1)                    # shape (batch_size, context_size * embedding_size)\n",
    "\n",
    "# Layer 1\n",
    "hprebn = embcat @ W1 + b1                              # shape (batch_size, hidden_size)\n",
    "\n",
    "# Batch normalization\n",
    "bnmeani = hprebn.sum(dim=0, keepdim=True) / n          # shape (1, hidden_size)\n",
    "bndiff = hprebn - bnmeani                              # shape (batch_size, hidden_size)\n",
    "bndiff2 = bndiff ** 2                                  # shape (batch_size, hidden_size)\n",
    "bnvar = bndiff2.sum(dim=0, keepdim=True) / (n - 1)     # shape (1, hidden_size)\n",
    "bnvar_inv = 1 / torch.sqrt(bnvar + 1e-5)               # shape (1, hidden_size)\n",
    "bnraw = bndiff * bnvar_inv                             # shape (batch_size, hidden_size)\n",
    "hpreact = bngain * bnraw + bnbias                      # shape (batch_size, hidden_size)\n",
    "\n",
    "# Non-linearity\n",
    "h = torch.tanh(hpreact)                                # shape (batch_size, hidden_size)\n",
    "logits = h @ W2 + b2                                   # shape (batch_size, vocab_size)\n",
    "\n",
    "# Cross-entropy loss\n",
    "logit_maxes = logits.max(dim=1, keepdim=True).values   # shape (batch_size, 1)\n",
    "norm_logits = logits - logit_maxes                     # shape (batch_size, vocab_size)\n",
    "counts = norm_logits.exp()                             # shape (batch_size, vocab_size)\n",
    "counts_sum = counts.sum(dim=1, keepdim=True)           # shape (batch_size, 1)\n",
    "counts_sum_inv = counts_sum ** -1                      # shape (batch_size, 1)\n",
    "probs = counts * counts_sum_inv                        # shape (batch_size, vocab_size)\n",
    "logprobs = probs.log()                                 # shape (batch_size, vocab_size)\n",
    "loss = - logprobs[range(logprobs.shape[0]), Yb].mean() # shape (1)  \n",
    "\n",
    "# PyTorch backward pass\n",
    "for p in parameters:\n",
    "    p.grad = None\n",
    "for t in [\n",
    "    logprobs, probs, counts_sum_inv, counts_sum, counts,\n",
    "    norm_logits, logit_maxes, logits, h, hpreact,\n",
    "    bnraw, bnvar_inv, bnvar, bndiff, bndiff2,\n",
    "    bnmeani, hprebn, embcat, emb\n",
    "    ]:\n",
    "    t.retain_grad()\n",
    "loss.backward()\n",
    "loss"
   ]
  },
  {
   "cell_type": "code",
   "execution_count": 32,
   "id": "69d8d58a",
   "metadata": {},
   "outputs": [],
   "source": [
    "# Compute all the gradients manually and compare with PyTorch backward pass\n",
    "dlogprobs = torch.zeros_like(logprobs).index_put((torch.Tensor(range(n)).int(), Yb), torch.tensor(-1/n))        # shape (batch_size, vocab_size)\n",
    "dprobs = dlogprobs * (1 / probs)                                                                                # shape (batch_size, vocab_size)\n",
    "dcounts_sum_inv = (dprobs * counts).sum(dim=1, keepdim=True)                                                    # shape (batch_size, 1)\n",
    "dcounts_sum = dcounts_sum_inv * ( - 1 / counts_sum ** 2 )                                                       # shape (batch_size, 1)\n",
    "dcounts = counts_sum_inv * dprobs + torch.ones_like(counts) * dcounts_sum                                       # shape (batch_size, vocab_size)\n",
    "dnorm_logits = dcounts * counts                                                                                 # shape (batch_size, vocab_size)\n",
    "dlogit_maxes = (-dnorm_logits).sum(dim=1, keepdim=True)                                                         # shape (batch_size, 1)\n",
    "dlogits = dlogit_maxes * F.one_hot(logits.max (1).indices, num_classes=logits.shape [1]) + dnorm_logits.clone() # shape (batch_size, vocab_size)\n",
    "dh = dlogits @ W2.T                                                                                             # shape (batch_size, hidden_size)\n",
    "dW2 = h.T @ dlogits                                                                                             # shape (hidden_size, hidden_size)\n",
    "db2 = dlogits.sum(dim=0, keepdim=False)                                                                         # shape (hidden_size)\n",
    "dhpreact = dh * (1 - h ** 2)                                                                                    # shape (batch_size, hidden_size)\n",
    "dbngain = (dhpreact * bnraw).sum(dim=0, keepdim=True)                                                           # shape (1, hidden_size)\n",
    "dbnbias = dhpreact.sum(dim=0, keepdim=True)                                                                     # shape (1, hidden_size)\n",
    "dbnraw = (dhpreact * bngain)                                                                                    # shape (batch_size, hidden_size)\n",
    "dbnvar_inv = (bndiff * dbnraw).sum(0, keepdim=True)                                                             # shape (1, hidden_size)\n",
    "dbnvar = (-0.5*(bnvar + 1.0e-5)**-1.5) * dbnvar_inv                                                             # shape (1, hidden_size)\n",
    "# Using tbe bnvar grad instead of the manually computed value to prevent the numerical rounding to compound\n",
    "dbndiff2 = bnvar.grad * torch.ones_like(bndiff2) / (n-1)                                                        # shape (batch_size, hidden_size)\n",
    "dbndiff = dbndiff2 * 2 * bndiff + dbnraw * bnvar_inv                                                            # shape (batch_size, hidden_size)\n",
    "dbnmeani = - dbndiff.sum(0, keepdim=True)                                                                       # shape (batch_size, 1)\n",
    "dhprebn = dbndiff + dbnmeani * (1/n)                                                                            # shape (batch_size, hidden_size)\n",
    "dembcat = dhprebn @ W1.T                                                                                        # shape (batch_size, vocab_size)\n",
    "dW1 = embcat.T @ dhprebn                                                                                        # shape (hidden_size, vocab_size)\n",
    "db1 = dhprebn.sum(dim=0, keepdim=False)                                                                         # shape (hidden_size)\n",
    "demb = dembcat.view(emb.shape)                                                                                  # shape (vocab_size)\n",
    "dC = torch.zeros_like(C)                                                                                        # shape (vocab_size, N_EMBEDDINGS)\n",
    "for k in range(Xb.shape[0]):\n",
    "    for j in range(Xb.shape[1]):\n",
    "        ix = Xb[k, j]\n",
    "        dC[ix] += demb[k, j]\n"
   ]
  },
  {
   "cell_type": "code",
   "execution_count": 33,
   "id": "926807cb",
   "metadata": {},
   "outputs": [
    {
     "name": "stdout",
     "output_type": "stream",
     "text": [
      "logprobs        | exact: True  | approximate: True  | maxdiff: 0.0\n",
      "probs           | exact: True  | approximate: True  | maxdiff: 0.0\n",
      "counts_sum_inv  | exact: True  | approximate: True  | maxdiff: 0.0\n",
      "counts_sum      | exact: True  | approximate: True  | maxdiff: 0.0\n",
      "counts          | exact: True  | approximate: True  | maxdiff: 0.0\n",
      "norm_logits     | exact: True  | approximate: True  | maxdiff: 0.0\n",
      "logit_maxes     | exact: True  | approximate: True  | maxdiff: 0.0\n",
      "logits          | exact: True  | approximate: True  | maxdiff: 0.0\n",
      "h               | exact: True  | approximate: True  | maxdiff: 0.0\n",
      "W2              | exact: True  | approximate: True  | maxdiff: 0.0\n",
      "b2              | exact: True  | approximate: True  | maxdiff: 0.0\n",
      "hpreact         | exact: True  | approximate: True  | maxdiff: 0.0\n",
      "bngain          | exact: True  | approximate: True  | maxdiff: 0.0\n",
      "bnbias          | exact: True  | approximate: True  | maxdiff: 0.0\n",
      "bnraw           | exact: True  | approximate: True  | maxdiff: 0.0\n",
      "bnvar_inv       | exact: True  | approximate: True  | maxdiff: 0.0\n",
      "bnvar           | exact: False | approximate: True  | maxdiff: 9.313225746154785e-10\n",
      "bndiff2         | exact: True  | approximate: True  | maxdiff: 0.0\n",
      "bndiff          | exact: True  | approximate: True  | maxdiff: 0.0\n",
      "bnmeani         | exact: True  | approximate: True  | maxdiff: 0.0\n",
      "hprebn          | exact: True  | approximate: True  | maxdiff: 0.0\n",
      "embcat          | exact: True  | approximate: True  | maxdiff: 0.0\n",
      "W1              | exact: True  | approximate: True  | maxdiff: 0.0\n",
      "b1              | exact: True  | approximate: True  | maxdiff: 0.0\n",
      "emb             | exact: True  | approximate: True  | maxdiff: 0.0\n",
      "C               | exact: True  | approximate: True  | maxdiff: 0.0\n"
     ]
    }
   ],
   "source": [
    "cmp('logprobs', dlogprobs, logprobs)\n",
    "cmp('probs', dprobs, probs)\n",
    "cmp('counts_sum_inv', dcounts_sum_inv, counts_sum_inv)\n",
    "cmp('counts_sum', dcounts_sum, counts_sum)\n",
    "cmp('counts', dcounts, counts)\n",
    "cmp('norm_logits', dnorm_logits, norm_logits)\n",
    "cmp('logit_maxes', dlogit_maxes, logit_maxes)\n",
    "cmp('logits', dlogits, logits)\n",
    "cmp('h', dh, h)\n",
    "cmp('W2', dW2, W2)\n",
    "cmp('b2', db2, b2)\n",
    "cmp('hpreact', dhpreact, hpreact)\n",
    "cmp('bngain', dbngain, bngain)\n",
    "cmp('bnbias', dbnbias, bnbias)\n",
    "cmp('bnraw', dbnraw, bnraw)\n",
    "cmp('bnvar_inv', dbnvar_inv, bnvar_inv)\n",
    "cmp('bnvar', dbnvar, bnvar)\n",
    "cmp('bndiff2', dbndiff2, bndiff2)\n",
    "cmp('bndiff', dbndiff, bndiff)\n",
    "cmp('bnmeani', dbnmeani, bnmeani)\n",
    "cmp('hprebn', dhprebn, hprebn)\n",
    "cmp('embcat', dembcat, embcat)\n",
    "cmp('W1', dW1, W1)\n",
    "cmp('b1', db1, b1)\n",
    "cmp('emb', demb, emb)\n",
    "cmp('C', dC, C)"
   ]
  },
  {
   "cell_type": "code",
   "execution_count": 34,
   "id": "4bacddc8",
   "metadata": {},
   "outputs": [
    {
     "name": "stdout",
     "output_type": "stream",
     "text": [
      "Loss fast: 3.48343825340271, diff: 0.00000%\n"
     ]
    }
   ],
   "source": [
    "# backprop through cross_entropy but all in one go\n",
    "\n",
    "# forward pass\n",
    "\n",
    "# before:\n",
    "# logit_maxes = logits.max(1, keepdim=True).values\n",
    "# norm_logits = logits - logit_maxes # subtract max for numerical stability\n",
    "# counts = norm_logits.exp()\n",
    "# counts_sum = counts.sum(1, keepdims=True)\n",
    "# counts_sum_inv = counts_sum**-1 # if I use (1.0 / counts_sum) instead then I can't get backprop to be bit exact...\n",
    "# probs = counts * counts_sum_inv\n",
    "# logprobs = probs.log()\n",
    "# loss = -logprobs[range(n), Yb].mean()\n",
    "\n",
    "# now:\n",
    "\n",
    "loss_fast = F.cross_entropy(logits, Yb)\n",
    "print(f\"Loss fast: {loss_fast.item()}, diff: {(loss_fast - loss) / loss:.5%}\")"
   ]
  },
  {
   "cell_type": "code",
   "execution_count": 35,
   "id": "6775ad00",
   "metadata": {},
   "outputs": [
    {
     "name": "stdout",
     "output_type": "stream",
     "text": [
      "logits          | exact: False | approximate: True  | maxdiff: 5.122274160385132e-09\n"
     ]
    }
   ],
   "source": [
    "# backward pass\n",
    "\n",
    "# -----------------\n",
    "dlogits = F.softmax(logits, dim=1)\n",
    "dlogits[range(n), Yb] -= 1\n",
    "dlogits /= n\n",
    "# -----------------\n",
    "\n",
    "cmp('logits', dlogits, logits)"
   ]
  },
  {
   "cell_type": "code",
   "execution_count": 36,
   "id": "39d7cf0a",
   "metadata": {},
   "outputs": [
    {
     "data": {
      "image/png": "[encoded data removed]",
      "text/plain": [
       "<Figure size 600x600 with 2 Axes>"
      ]
     },
     "metadata": {},
     "output_type": "display_data"
    }
   ],
   "source": [
    "plt.figure(figsize=(6, 6))\n",
    "plt.imshow(dlogits.detach(), cmap='gray')\n",
    "plt.colorbar()\n",
    "plt.show();"
   ]
  },
  {
   "cell_type": "code",
   "execution_count": 37,
   "id": "9f8090d5",
   "metadata": {},
   "outputs": [
    {
     "name": "stdout",
     "output_type": "stream",
     "text": [
      "max diff: tensor(3.5763e-07, grad_fn=<MaxBackward1>)\n"
     ]
    }
   ],
   "source": [
    "# backprop through batchnorm but all in one go\n",
    "# BatchNorm paper: https://arxiv.org/abs/1502.03167\n",
    "\n",
    "# forward pass\n",
    "\n",
    "# before:\n",
    "# bnmeani = 1/n*hprebn.sum(0, keepdim=True)\n",
    "# bndiff = hprebn - bnmeani\n",
    "# bndiff2 = bndiff**2\n",
    "# bnvar = 1/(n-1)*(bndiff2).sum(0, keepdim=True) # note: Bessel's correction (dividing by n-1, not n)\n",
    "# bnvar_inv = (bnvar + 1e-5)**-0.5\n",
    "# bnraw = bndiff * bnvar_inv\n",
    "# hpreact = bngain * bnraw + bnbias\n",
    "\n",
    "# now:\n",
    "hpreact_fast = bngain * (hprebn - hprebn.mean(0, keepdim=True)) / torch.sqrt(hprebn.var(0, keepdim=True, unbiased=True) + 1e-5) + bnbias\n",
    "print('max diff:', (hpreact_fast - hpreact).abs().max())"
   ]
  },
  {
   "cell_type": "code",
   "execution_count": 38,
   "id": "57a79bb3",
   "metadata": {},
   "outputs": [
    {
     "name": "stdout",
     "output_type": "stream",
     "text": [
      "hprebn          | exact: False | approximate: True  | maxdiff: 9.313225746154785e-10\n"
     ]
    }
   ],
   "source": [
    "# backward pass\n",
    "\n",
    "# before we had:\n",
    "# dbnraw = bngain * dhpreact\n",
    "# dbndiff = bnvar_inv * dbnraw\n",
    "# dbnvar_inv = (bndiff * dbnraw).sum(0, keepdim=True)\n",
    "# dbnvar = (-0.5*(bnvar + 1e-5)**-1.5) * dbnvar_inv\n",
    "# dbndiff2 = (1.0/(n-1))*torch.ones_like(bndiff2) * dbnvar\n",
    "# dbndiff += (2*bndiff) * dbndiff2\n",
    "# dhprebn = dbndiff.clone()\n",
    "# dbnmeani = (-dbndiff).sum(0)\n",
    "# dhprebn += 1.0/n * (torch.ones_like(hprebn) * dbnmeani)\n",
    "\n",
    "# calculate dhprebn given dhpreact (i.e. backprop through the batchnorm)\n",
    "\n",
    "# -----------------\n",
    "dhprebn = bngain*bnvar_inv/n * (n*dhpreact - dhpreact.sum(0) - n/(n-1)*bnraw* (dhpreact*bnraw).sum(0))\n",
    "# -----------------\n",
    "\n",
    "cmp('hprebn', dhprebn, hprebn) # I can only get approximate to be true, my maxdiff is 9e-10"
   ]
  },
  {
   "cell_type": "code",
   "execution_count": 49,
   "id": "b00692e7",
   "metadata": {},
   "outputs": [
    {
     "name": "stdout",
     "output_type": "stream",
     "text": [
      "12719\n",
      "      0/ 200000: 3.8111\n"
     ]
    },
    {
     "name": "stdout",
     "output_type": "stream",
     "text": [
      "  10000/ 200000: 1.5936\n",
      "  20000/ 200000: 2.1010\n",
      "  30000/ 200000: 1.4711\n",
      "  40000/ 200000: 2.1248\n",
      "  50000/ 200000: 1.6181\n",
      "  60000/ 200000: 1.7196\n",
      "  70000/ 200000: 1.2026\n",
      "  80000/ 200000: 1.3953\n",
      "  90000/ 200000: 1.4356\n",
      " 100000/ 200000: 1.4518\n",
      " 110000/ 200000: 1.2661\n",
      " 120000/ 200000: 1.2207\n",
      " 130000/ 200000: 1.4259\n",
      " 140000/ 200000: 1.5294\n",
      " 150000/ 200000: 1.5008\n",
      " 160000/ 200000: 1.4570\n",
      " 170000/ 200000: 1.6469\n",
      " 180000/ 200000: 1.1593\n",
      " 190000/ 200000: 1.3232\n"
     ]
    }
   ],
   "source": [
    "# Train the MLP neural net with your own backward pass\n",
    "\n",
    "# init\n",
    "n_embd = 10 # the dimensionality of the character embedding vectors\n",
    "n_hidden = 200 # the number of neurons in the hidden layer of the MLP\n",
    "\n",
    "g = torch.Generator().manual_seed(2147483647) # for reproducibility\n",
    "C  = torch.randn((vocab_size, n_embd),            generator=g)\n",
    "# Layer 1\n",
    "W1 = torch.randn((n_embd * CONTEXT_SIZE, n_hidden), generator=g) * (5/3)/((n_embd * CONTEXT_SIZE)**0.5)\n",
    "b1 = torch.randn(n_hidden,                        generator=g) * 0.1\n",
    "# Layer 2\n",
    "W2 = torch.randn((n_hidden, vocab_size),          generator=g) * 0.1\n",
    "b2 = torch.randn(vocab_size,                      generator=g) * 0.1\n",
    "# BatchNorm parameters\n",
    "bngain = torch.randn((1, n_hidden))*0.1 + 1.0\n",
    "bnbias = torch.randn((1, n_hidden))*0.1\n",
    "\n",
    "parameters = [C, W1, b1, W2, b2, bngain, bnbias]\n",
    "print(sum(p.nelement() for p in parameters)) # number of parameters in total\n",
    "for p in parameters:\n",
    "  p.requires_grad = True\n",
    "\n",
    "# same optimization as last time\n",
    "max_steps = 200000\n",
    "batch_size = 32\n",
    "n = batch_size # convenience\n",
    "lossi = []\n",
    "\n",
    "# use this context manager for efficiency once your backward pass is written (TODO)\n",
    "with torch.no_grad():\n",
    "\n",
    "  # kick off optimization\n",
    "  for i in range(max_steps):\n",
    "\n",
    "    # minibatch construct\n",
    "    ix = torch.randint(0, X_train.shape[0], (batch_size,), generator=g)\n",
    "    Xb, Yb = X_train[ix], Y_train[ix] # batch X,Y\n",
    "\n",
    "    # forward pass\n",
    "    emb = C[Xb] # embed the characters into vectors\n",
    "    embcat = emb.view(emb.shape[0], -1) # concatenate the vectors\n",
    "    # Linear layer\n",
    "    hprebn = embcat @ W1 + b1 # hidden layer pre-activation\n",
    "    # BatchNorm layer\n",
    "    # -------------------------------------------------------------\n",
    "    bnmean = hprebn.mean(0, keepdim=True)\n",
    "    bnvar = hprebn.var(0, keepdim=True, unbiased=True)\n",
    "    bnvar_inv = (bnvar + 1e-5)**-0.5\n",
    "    bnraw = (hprebn - bnmean) * bnvar_inv\n",
    "    hpreact = bngain * bnraw + bnbias\n",
    "    # -------------------------------------------------------------\n",
    "    # Non-linearity\n",
    "    h = torch.tanh(hpreact) # hidden layer\n",
    "    logits = h @ W2 + b2 # output layer\n",
    "    loss = F.cross_entropy(logits, Yb) # loss function\n",
    "\n",
    "    # backward pass\n",
    "    for p in parameters:\n",
    "      p.grad = None\n",
    "    #loss.backward() # use this for correctness comparisons, delete it later!\n",
    "\n",
    "    # manual backprop! #swole_doge_meme\n",
    "    # -----------------\n",
    "    dlogits = F.softmax(logits, 1)\n",
    "    dlogits[range(n), Yb] -= 1\n",
    "    dlogits /= n\n",
    "    # 2nd layer backprop\n",
    "    dh = dlogits @ W2.T\n",
    "    dW2 = h.T @ dlogits\n",
    "    db2 = dlogits.sum(0)\n",
    "    # tanh\n",
    "    dhpreact = (1.0 - h**2) * dh\n",
    "    # batchnorm backprop\n",
    "    dbngain = (bnraw * dhpreact).sum(0, keepdim=True)\n",
    "    dbnbias = dhpreact.sum(0, keepdim=True)\n",
    "    dhprebn = bngain*bnvar_inv/n * (n*dhpreact - dhpreact.sum(0) - n/(n-1)*bnraw*(dhpreact*bnraw).sum(0))\n",
    "    # 1st layer\n",
    "    dembcat = dhprebn @ W1.T\n",
    "    dW1 = embcat.T @ dhprebn\n",
    "    db1 = dhprebn.sum(0)\n",
    "    # embedding\n",
    "    demb = dembcat.view(emb.shape)\n",
    "    dC = torch.zeros_like(C)\n",
    "    for k in range(Xb.shape[0]):\n",
    "      for j in range(Xb.shape[1]):\n",
    "        ix = Xb[k,j]\n",
    "        dC[ix] += demb[k,j]\n",
    "    grads = [dC, dW1, db1, dW2, db2, dbngain, dbnbias]\n",
    "    # -----------------\n",
    "\n",
    "    # update\n",
    "    lr = 0.1 if i < 100000 else 0.01 # step learning rate decay\n",
    "    for p, grad in zip(parameters, grads):\n",
    "      #p.data += -lr * p.grad # old way of cheems doge (using PyTorch grad from .backward())\n",
    "      p.data += -lr * grad # new way of swole doge TODO: enable\n",
    "\n",
    "    # track stats\n",
    "    if i % 10000 == 0: # print every once in a while\n",
    "      print(f'{i:7d}/{max_steps:7d}: {loss.item():.4f}')\n",
    "    lossi.append(loss.log10().item())\n",
    "\n",
    "  #   if i >= 100: # TODO: delete early breaking when you're ready to train the full net\n",
    "  #     break"
   ]
  },
  {
   "cell_type": "code",
   "execution_count": 50,
   "id": "e1ba2a53",
   "metadata": {},
   "outputs": [],
   "source": [
    "# calibrate the batch norm at the end of training\n",
    "\n",
    "with torch.no_grad():\n",
    "  # pass the training set through\n",
    "  emb = C[X_train]\n",
    "  embcat = emb.view(emb.shape[0], -1)\n",
    "  hpreact = embcat @ W1 + b1\n",
    "  # measure the mean/std over the entire training set\n",
    "  bnmean = hpreact.mean(0, keepdim=True)\n",
    "  bnvar = hpreact.var(0, keepdim=True, unbiased=True)\n"
   ]
  },
  {
   "cell_type": "code",
   "execution_count": 51,
   "id": "042f6632",
   "metadata": {},
   "outputs": [
    {
     "name": "stdout",
     "output_type": "stream",
     "text": [
      "train 1.3426601886749268\n",
      "val 1.3950341939926147\n"
     ]
    }
   ],
   "source": [
    "# evaluate train and val loss\n",
    "\n",
    "@torch.no_grad() # this decorator disables gradient tracking\n",
    "def split_loss(split):\n",
    "  x,y = {\n",
    "    'train': (X_train, Y_train),\n",
    "    'val': (X_dev, Y_dev),\n",
    "    'test': (X_test, Y_test),\n",
    "  }[split]\n",
    "  emb = C[x] # (N, block_size, n_embd)\n",
    "  embcat = emb.view(emb.shape[0], -1) # concat into (N, block_size * n_embd)\n",
    "  hpreact = embcat @ W1 + b1\n",
    "  hpreact = bngain * (hpreact - bnmean) * (bnvar + 1e-5)**-0.5 + bnbias\n",
    "  h = torch.tanh(hpreact) # (N, n_hidden)\n",
    "  logits = h @ W2 + b2 # (N, vocab_size)\n",
    "  loss = F.cross_entropy(logits, y)\n",
    "  print(split, loss.item())\n",
    "\n",
    "split_loss('train')\n",
    "split_loss('val')"
   ]
  }
 ],
 "metadata": {
  "kernelspec": {
   "display_name": ".venv",
   "language": "python",
   "name": "python3"
  },
  "language_info": {
   "codemirror_mode": {
    "name": "ipython",
    "version": 3
   },
   "file_extension": ".py",
   "mimetype": "text/x-python",
   "name": "python",
   "nbconvert_exporter": "python",
   "pygments_lexer": "ipython3",
   "version": "3.10.16"
  }
 },
 "nbformat": 4,
 "nbformat_minor": 5
}
