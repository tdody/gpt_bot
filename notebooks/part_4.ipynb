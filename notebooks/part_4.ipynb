{
 "cells": [
  {
   "cell_type": "code",
   "execution_count": 26,
   "id": "65efbc06",
   "metadata": {},
   "outputs": [],
   "source": [
    "import torch\n",
    "import torch.nn.functional as F\n",
    "import matplotlib.pyplot as plt\n",
    "import random\n",
    "%matplotlib inline"
   ]
  },
  {
   "cell_type": "code",
   "execution_count": 27,
   "id": "201af8ca",
   "metadata": {},
   "outputs": [
    {
     "name": "stdout",
     "output_type": "stream",
     "text": [
      "First 10 birds in the dataset:\n",
      "\n",
      "Abbott's babbler, Abbott's booby, Abbott's starling, Abbott's sunbird, Abd al-Kuri sparrow, Abdim's stork, Aberdare cisticola, Aberrant bush warbler, Abert's towhee, Abyssinian catbird\n",
      "There are 10,976 birds in the dataset.\n",
      "\n",
      "The shortest character name has 3 characters.\n",
      "The longest character name has 35 characters.\n"
     ]
    }
   ],
   "source": [
    "DATASET_PATH = \"./datasets/birds/birds.csv\"\n",
    "\n",
    "birds = open(DATASET_PATH, \"r\").read().splitlines()\n",
    "\n",
    "print(\"First 10 birds in the dataset:\\n\")\n",
    "print(\", \".join(birds[:10]))\n",
    "print(f\"There are {len(birds):,d} birds in the dataset.\")\n",
    "\n",
    "min_length = map(len, birds)\n",
    "max_length = map(len, birds)\n",
    "print(f\"\\nThe shortest character name has {min(min_length)} characters.\")\n",
    "print(f\"The longest character name has {max(max_length)} characters.\")"
   ]
  },
  {
   "cell_type": "code",
   "execution_count": 28,
   "id": "6f9a66f6",
   "metadata": {},
   "outputs": [],
   "source": [
    "from unidecode import unidecode\n",
    "\n",
    "def clean_name(name):\n",
    "    \"\"\"\n",
    "    Clean the bird name by:\n",
    "    - Removing leading and trailing whitespaces\n",
    "    - Converting to lowercase\n",
    "    - Removing accents\n",
    "    - Removing special characters\n",
    "    - Replacing spaces with underscores\n",
    "    \"\"\"\n",
    "\n",
    "    name = name.strip().lower()\n",
    "    # replace special characters with a space\n",
    "    name = ''.join(char if char.isalnum() or char.isspace() else ' ' for char in name)\n",
    "    name = name.replace(\"`\", \"_\")  # Remove apostrophes\n",
    "    name = name.replace(\" \", \"_\")\n",
    "    name = unidecode(name)\n",
    "    return name"
   ]
  },
  {
   "cell_type": "code",
   "execution_count": 29,
   "id": "ebb73e73",
   "metadata": {},
   "outputs": [
    {
     "name": "stdout",
     "output_type": "stream",
     "text": [
      "Number of unique tokens: 28\n",
      "_, `, a, b, c, d, e, f, g, h, i, j, k, l, m, n, o, p, q, r, s, t, u, v, w, x, y, z\n",
      "\n",
      "Token mapping: {1: 'x', 2: 't', 3: 'y', 4: 's', 5: 'u', 6: 'q', 7: 'l', 8: 'e', 9: 'w', 10: 'z', 11: 'a', 12: 'o', 13: '`', 14: 'j', 15: 'n', 16: 'v', 17: 'b', 18: 'h', 19: 'd', 20: '_', 21: 'i', 22: 'c', 23: 'g', 24: 'r', 25: 'f', 26: 'p', 27: 'k', 28: 'm', 0: '.'}\n"
     ]
    }
   ],
   "source": [
    "# clean all names in the dataset\n",
    "birds = list(map(clean_name, birds))\n",
    "\n",
    "# create a mapping from tokens to indices\n",
    "unique_tokens = set([c for w in birds for c in w])\n",
    "SPECIAL_TOKEN = \".\"\n",
    "index_to_token = {i: t for i, t in enumerate(unique_tokens, start=1)}\n",
    "token_to_index = {v: k for k, v in index_to_token.items()}\n",
    "index_to_token[0] = SPECIAL_TOKEN\n",
    "token_to_index[SPECIAL_TOKEN] = 0\n",
    "\n",
    "# log information about the tokenization\n",
    "print(f\"Number of unique tokens: {len(unique_tokens)}\")\n",
    "print(\", \".join(sorted(unique_tokens)))\n",
    "print(f\"\\nToken mapping: {index_to_token}\")"
   ]
  },
  {
   "cell_type": "code",
   "execution_count": 30,
   "id": "65287c85",
   "metadata": {},
   "outputs": [],
   "source": [
    "# Model parameters\n",
    "CONTEXT_SIZE = 3\n",
    "N_EMBEDDINGS = 10\n",
    "N_HIDDEN = 64\n",
    "N_TOKEN = len(token_to_index)\n",
    "\n",
    "# Training parameters\n",
    "TRAINING_SET_PORTION = 0.8\n",
    "DEVELOPMENT_SET_PORTION = 0.1\n",
    "TEST_SET_PORTION = 1 - (TRAINING_SET_PORTION + DEVELOPMENT_SET_PORTION)"
   ]
  },
  {
   "cell_type": "code",
   "execution_count": 31,
   "id": "98a0cff5",
   "metadata": {},
   "outputs": [
    {
     "name": "stdout",
     "output_type": "stream",
     "text": [
      "Training set shape: torch.Size([172513, 3]) torch.Size([172513])\n",
      "Development set shape: torch.Size([21531, 3]) torch.Size([21531])\n",
      "Test set shape: torch.Size([21461, 3]) torch.Size([21461])\n"
     ]
    }
   ],
   "source": [
    "def build_datasets(words: list[str]) -> tuple[torch.Tensor, torch.Tensor]:\n",
    "    \"\"\"\n",
    "    Build datasets from a list of words by creating input and target tensors.\n",
    "    \n",
    "    Args:\n",
    "        words (list[str]): List of words to build the datasets from.\n",
    "        \n",
    "    Returns:\n",
    "        tuple[torch.Tensor, torch.Tensor]: Tuple containing the input tensor X and target tensor Y.\n",
    "    \"\"\"\n",
    "    # Create a mapping from tokens to indices\n",
    "    X, Y = [], []\n",
    "    \n",
    "    # Create the context for each character in the words\n",
    "    for w in words:\n",
    "        context = [0] * CONTEXT_SIZE\n",
    "        for ch in w + SPECIAL_TOKEN:  # Add special token at the end\n",
    "            ix = token_to_index[ch]\n",
    "            X.append(context)\n",
    "            Y.append(ix)\n",
    "            # Update the context by shifting it and adding the new index \n",
    "            context = context[1:] + [ix]\n",
    "\n",
    "    # Convert lists to tensors\n",
    "    X = torch.tensor(X, dtype=torch.int64)\n",
    "    Y = torch.tensor(Y, dtype=torch.int64)\n",
    "\n",
    "    return X, Y\n",
    "    \n",
    "# Shuffle the words\n",
    "random.seed(1234)\n",
    "random.shuffle(birds)\n",
    "\n",
    "# Split the dataset into training, development, and test sets\n",
    "train_size = int(TRAINING_SET_PORTION * len(birds))\n",
    "dev_size = int(DEVELOPMENT_SET_PORTION * len(birds))\n",
    "\n",
    "X_train, Y_train = build_datasets(birds[:train_size])\n",
    "X_dev, Y_dev = build_datasets(birds[train_size:train_size + dev_size])\n",
    "X_test, Y_test = build_datasets(birds[train_size + dev_size:])\n",
    "\n",
    "# print tensor shapes\n",
    "print(\"Training set shape:\", X_train.shape, Y_train.shape)\n",
    "print(\"Development set shape:\", X_dev.shape, Y_dev.shape)\n",
    "print(\"Test set shape:\", X_test.shape, Y_test.shape)"
   ]
  },
  {
   "cell_type": "code",
   "execution_count": 94,
   "id": "0f0f0b6e",
   "metadata": {},
   "outputs": [],
   "source": [
    "def cmp(s, dt, t):\n",
    "    \"\"\"\n",
    "    Compare the true gradient dt and the approximate gradient t.grad.\n",
    "    Print the results in a table format.\n",
    "    \"\"\"\n",
    "    assert t.grad.shape == dt.shape, f\"Shape mismatch: expected {t.grad.shape}, got {dt.shape}\"\n",
    "\n",
    "    exact = torch.all(dt==t.grad).item()\n",
    "    approx = torch.allclose(dt, t.grad)\n",
    "    max_diff = (dt - t.grad).abs().max().item()\n",
    "    print(f'{s:15s} | exact: {str(exact):5s} | approximate: {str(approx):5s} | maxdiff: {max_diff}')"
   ]
  },
  {
   "cell_type": "code",
   "execution_count": 33,
   "id": "9e74b94d",
   "metadata": {},
   "outputs": [
    {
     "name": "stdout",
     "output_type": "stream",
     "text": [
      "Model size: 4287\n"
     ]
    }
   ],
   "source": [
    "g = torch.Generator().manual_seed(123456789) # for reproducibility\n",
    "\n",
    "# Embedding matrix\n",
    "C = torch.randn((N_TOKEN, N_EMBEDDINGS), generator=g)\n",
    "\n",
    "# Layer 1\n",
    "W1 = torch.randn((N_EMBEDDINGS * CONTEXT_SIZE, N_HIDDEN), generator=g) * (5/3) / (N_EMBEDDINGS * CONTEXT_SIZE)**0.5\n",
    "b1 = torch.randn(N_HIDDEN, generator=g) * 0.1\n",
    "\n",
    "# Layer 2\n",
    "W2 = torch.randn((N_HIDDEN, N_TOKEN), generator=g) * 0.1\n",
    "b2 = torch.randn(N_TOKEN, generator=g) * 0.1\n",
    "\n",
    "# Batch normalization\n",
    "bngain = torch.randn((1, N_HIDDEN), generator=g) * 0.1 + 1.0\n",
    "bnbias = torch.randn((1, N_HIDDEN), generator=g) * 0.1\n",
    "\n",
    "# Parameters\n",
    "parameters = [C, W1, b1, W2, b2, bngain, bnbias]\n",
    "\n",
    "# Model size\n",
    "print(f\"Model size: {sum(p.numel() for p in parameters)}\")\n",
    "\n",
    "# Turn on gradient tracking\n",
    "for p in parameters:\n",
    "    p.requires_grad = True"
   ]
  },
  {
   "cell_type": "code",
   "execution_count": 34,
   "id": "a60d749c",
   "metadata": {},
   "outputs": [],
   "source": [
    "batch_size = 32\n",
    "ix = torch.randint(0, X_train.shape[0], (batch_size,), generator=g)\n",
    "Xb, Yb = X_train[ix], Y_train[ix]"
   ]
  },
  {
   "cell_type": "code",
   "execution_count": 199,
   "id": "bafa5d9d",
   "metadata": {},
   "outputs": [
    {
     "data": {
      "text/plain": [
       "tensor(3.7229, grad_fn=<NegBackward0>)"
      ]
     },
     "execution_count": 199,
     "metadata": {},
     "output_type": "execute_result"
    }
   ],
   "source": [
    "# Forward pass on a single batch\n",
    "n = batch_size\n",
    "emb = C[Xb]                                            # shape (batch_size, context_size, embedding_size)\n",
    "embcat = emb.view(emb.shape[0], -1)                    # shape (batch_size, context_size * embedding_size)\n",
    "\n",
    "# Layer 1\n",
    "hprebn = embcat @ W1 + b1                              # shape (batch_size, hidden_size)\n",
    "\n",
    "# Batch normalization\n",
    "bnmeani = hprebn.sum(dim=0, keepdim=True) / n          # shape (1, hidden_size)\n",
    "bndiff = hprebn - bnmeani                              # shape (batch_size, hidden_size)\n",
    "bndiff2 = bndiff ** 2                                  # shape (batch_size, hidden_size)\n",
    "bnvar = bndiff2.sum(dim=0, keepdim=True) / (n - 1)     # shape (1, hidden_size)\n",
    "bnvar_inv = 1 / torch.sqrt(bnvar + 1e-5)               # shape (1, hidden_size)\n",
    "bnraw = bndiff * bnvar_inv                             # shape (batch_size, hidden_size)\n",
    "hpreact = bngain * bnraw + bnbias                      # shape (batch_size, hidden_size)\n",
    "\n",
    "# Non-linearity\n",
    "h = torch.tanh(hpreact)                                # shape (batch_size, hidden_size)\n",
    "logits = h @ W2 + b2                                   # shape (batch_size, vocab_size)\n",
    "\n",
    "# Cross-entropy loss\n",
    "logit_maxes = logits.max(dim=1, keepdim=True).values   # shape (batch_size, 1)\n",
    "norm_logits = logits - logit_maxes                     # shape (batch_size, vocab_size)\n",
    "counts = norm_logits.exp()                             # shape (batch_size, vocab_size)\n",
    "counts_sum = counts.sum(dim=1, keepdim=True)           # shape (batch_size, 1)\n",
    "counts_sum_inv = counts_sum ** -1                      # shape (batch_size, 1)\n",
    "probs = counts * counts_sum_inv                        # shape (batch_size, vocab_size)\n",
    "logprobs = probs.log()                                 # shape (batch_size, vocab_size)\n",
    "loss = - logprobs[range(logprobs.shape[0]), Yb].mean() # shape (1)  \n",
    "\n",
    "# PyTorch backward pass\n",
    "for p in parameters:\n",
    "    p.grad = None\n",
    "for t in [\n",
    "    logprobs, probs, counts_sum_inv, counts_sum, counts,\n",
    "    norm_logits, logit_maxes, logits, h, hpreact,\n",
    "    bnraw, bnvar_inv, bnvar, bndiff, bndiff2,\n",
    "    bnmeani, hprebn, embcat, emb\n",
    "    ]:\n",
    "    t.retain_grad()\n",
    "loss.backward()\n",
    "loss"
   ]
  },
  {
   "cell_type": "code",
   "execution_count": null,
   "id": "69d8d58a",
   "metadata": {},
   "outputs": [],
   "source": [
    "# Compute all the gradients manually and compare with PyTorch backward pass\n",
    "dlogprobs = torch.zeros_like(logprobs).index_put((torch.Tensor(range(n)).int(), Yb), torch.tensor(-1/n))        # shape (batch_size, vocab_size)\n",
    "dprobs = dlogprobs * (1 / probs)                                                                                # shape (batch_size, vocab_size)\n",
    "dcounts_sum_inv = (dprobs * counts).sum(dim=1, keepdim=True)                                                    # shape (batch_size, 1)\n",
    "dcounts_sum = dcounts_sum_inv * ( - 1 / counts_sum ** 2 )                                                       # shape (batch_size, 1)\n",
    "dcounts = counts_sum_inv * dprobs + torch.ones_like(counts) * dcounts_sum                                       # shape (batch_size, vocab_size)\n",
    "dnorm_logits = dcounts * counts                                                                                 # shape (batch_size, vocab_size)\n",
    "dlogit_maxes = (-dnorm_logits).sum(dim=1, keepdim=True)                                                         # shape (batch_size, 1)\n",
    "dlogits = dlogit_maxes * F.one_hot(logits.max (1).indices, num_classes=logits.shape [1]) + dnorm_logits.clone() # shape (batch_size, vocab_size)\n",
    "dh = dlogits @ W2.T                                                                                             # shape (batch_size, hidden_size)\n",
    "dW2 = h.T @ dlogits                                                                                             # shape (hidden_size, hidden_size)\n",
    "db2 = dlogits.sum(dim=0, keepdim=False)                                                                         # shape (hidden_size)\n",
    "dhpreact = dh * (1 - h ** 2)                                                                                    # shape (batch_size, hidden_size)\n",
    "dbngain = (dhpreact * bnraw).sum(dim=0, keepdim=True)                                                           # shape (1, hidden_size)\n",
    "dbnbias = dhpreact.sum(dim=0, keepdim=True)                                                                     # shape (1, hidden_size)\n",
    "dbnraw = (dhpreact * bngain)                                                                                    # shape (batch_size, hidden_size)\n",
    "dbnvar_inv = (dbnraw * bndiff).sum(dim=0, keepdim=True)                                                         # shape (1, hidden_size)\n",
    "dbnvar = ( -0.5 * (bnvar + 1e-5) ** -1.5 ) * dbnvar_inv                                                         # shape (1, hidden_size)"
   ]
  },
  {
   "cell_type": "code",
   "execution_count": 221,
   "id": "926807cb",
   "metadata": {},
   "outputs": [
    {
     "name": "stdout",
     "output_type": "stream",
     "text": [
      "logprobs        | exact: True  | approximate: True  | maxdiff: 0.0\n",
      "probs           | exact: True  | approximate: True  | maxdiff: 0.0\n",
      "counts_sum_inv  | exact: True  | approximate: True  | maxdiff: 0.0\n",
      "counts_sum      | exact: True  | approximate: True  | maxdiff: 0.0\n",
      "counts          | exact: True  | approximate: True  | maxdiff: 0.0\n",
      "norm_logits     | exact: True  | approximate: True  | maxdiff: 0.0\n",
      "logit_maxes     | exact: True  | approximate: True  | maxdiff: 0.0\n",
      "logits          | exact: True  | approximate: True  | maxdiff: 0.0\n",
      "h               | exact: True  | approximate: True  | maxdiff: 0.0\n",
      "W2              | exact: True  | approximate: True  | maxdiff: 0.0\n",
      "b2              | exact: True  | approximate: True  | maxdiff: 0.0\n",
      "hpreact         | exact: True  | approximate: True  | maxdiff: 0.0\n",
      "bngain          | exact: True  | approximate: True  | maxdiff: 0.0\n",
      "bnbias          | exact: True  | approximate: True  | maxdiff: 0.0\n",
      "bnraw           | exact: True  | approximate: True  | maxdiff: 0.0\n",
      "bnvar_inv       | exact: True  | approximate: True  | maxdiff: 0.0\n",
      "bnvar           | exact: False | approximate: True  | maxdiff: 4.656612873077393e-10\n"
     ]
    }
   ],
   "source": [
    "cmp('logprobs', dlogprobs, logprobs)\n",
    "cmp('probs', dprobs, probs)\n",
    "cmp('counts_sum_inv', dcounts_sum_inv, counts_sum_inv)\n",
    "cmp('counts_sum', dcounts_sum, counts_sum)\n",
    "cmp('counts', dcounts, counts)\n",
    "cmp('norm_logits', dnorm_logits, norm_logits)\n",
    "cmp('logit_maxes', dlogit_maxes, logit_maxes)\n",
    "cmp('logits', dlogits, logits)\n",
    "cmp('h', dh, h)\n",
    "cmp('W2', dW2, W2)\n",
    "cmp('b2', db2, b2)\n",
    "cmp('hpreact', dhpreact, hpreact)\n",
    "cmp('bngain', dbngain, bngain)\n",
    "cmp('bnbias', dbnbias, bnbias)\n",
    "cmp('bnraw', dbnraw, bnraw)\n",
    "cmp('bnvar_inv', dbnvar_inv, bnvar_inv)\n",
    "cmp('bnvar', dbnvar, bnvar)\n",
    "# cmp('bndiff2', dbndiff2, bndiff2)\n",
    "# cmp('bndiff', dbndiff, bndiff)\n",
    "# cmp('bnmeani', dbnmeani, bnmeani)\n",
    "# cmp('hprebn', dhprebn, hprebn)\n",
    "# cmp('embcat', dembcat, embcat)\n",
    "# cmp('W1', dW1, W1)\n",
    "# cmp('b1', db1, b1)\n",
    "# cmp('emb', demb, emb)\n",
    "# cmp('C', dC, C)\n",
    "\n"
   ]
  },
  {
   "cell_type": "code",
   "execution_count": null,
   "id": "4bacddc8",
   "metadata": {},
   "outputs": [],
   "source": [
    "# "
   ]
  }
 ],
 "metadata": {
  "kernelspec": {
   "display_name": ".venv",
   "language": "python",
   "name": "python3"
  },
  "language_info": {
   "codemirror_mode": {
    "name": "ipython",
    "version": 3
   },
   "file_extension": ".py",
   "mimetype": "text/x-python",
   "name": "python",
   "nbconvert_exporter": "python",
   "pygments_lexer": "ipython3",
   "version": "3.10.16"
  }
 },
 "nbformat": 4,
 "nbformat_minor": 5
}
