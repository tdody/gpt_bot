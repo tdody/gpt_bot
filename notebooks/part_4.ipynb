{
 "cells": [
  {
   "cell_type": "code",
   "execution_count": 7,
   "id": "65efbc06",
   "metadata": {},
   "outputs": [],
   "source": [
    "import torch\n",
    "import torch.nn.functional as F\n",
    "import matplotlib.pyplot as plt\n",
    "import random\n",
    "%matplotlib inline"
   ]
  },
  {
   "cell_type": "code",
   "execution_count": 8,
   "id": "201af8ca",
   "metadata": {},
   "outputs": [
    {
     "name": "stdout",
     "output_type": "stream",
     "text": [
      "First 10 birds in the dataset:\n",
      "\n",
      "Abbott's babbler, Abbott's booby, Abbott's starling, Abbott's sunbird, Abd al-Kuri sparrow, Abdim's stork, Aberdare cisticola, Aberrant bush warbler, Abert's towhee, Abyssinian catbird\n",
      "There are 10,976 birds in the dataset.\n",
      "\n",
      "The shortest character name has 3 characters.\n",
      "The longest character name has 35 characters.\n"
     ]
    }
   ],
   "source": [
    "DATASET_PATH = \"./datasets/birds/birds.csv\"\n",
    "\n",
    "birds = open(DATASET_PATH, \"r\").read().splitlines()\n",
    "\n",
    "print(\"First 10 birds in the dataset:\\n\")\n",
    "print(\", \".join(birds[:10]))\n",
    "print(f\"There are {len(birds):,d} birds in the dataset.\")\n",
    "\n",
    "min_length = map(len, birds)\n",
    "max_length = map(len, birds)\n",
    "print(f\"\\nThe shortest character name has {min(min_length)} characters.\")\n",
    "print(f\"The longest character name has {max(max_length)} characters.\")"
   ]
  },
  {
   "cell_type": "code",
   "execution_count": 9,
   "id": "6f9a66f6",
   "metadata": {},
   "outputs": [],
   "source": [
    "from unidecode import unidecode\n",
    "\n",
    "def clean_name(name):\n",
    "    \"\"\"\n",
    "    Clean the bird name by:\n",
    "    - Removing leading and trailing whitespaces\n",
    "    - Converting to lowercase\n",
    "    - Removing accents\n",
    "    - Removing special characters\n",
    "    - Replacing spaces with underscores\n",
    "    \"\"\"\n",
    "\n",
    "    name = name.strip().lower()\n",
    "    # replace special characters with a space\n",
    "    name = ''.join(char if char.isalnum() or char.isspace() else ' ' for char in name)\n",
    "    name = name.replace(\"`\", \"_\")  # Remove apostrophes\n",
    "    name = name.replace(\" \", \"_\")\n",
    "    name = unidecode(name)\n",
    "    return name"
   ]
  },
  {
   "cell_type": "code",
   "execution_count": 10,
   "id": "ebb73e73",
   "metadata": {},
   "outputs": [
    {
     "name": "stdout",
     "output_type": "stream",
     "text": [
      "Number of unique tokens: 28\n",
      "_, `, a, b, c, d, e, f, g, h, i, j, k, l, m, n, o, p, q, r, s, t, u, v, w, x, y, z\n",
      "\n",
      "Token mapping: {1: 'b', 2: 'w', 3: 'l', 4: 'p', 5: '`', 6: 'h', 7: 's', 8: 'x', 9: 't', 10: 'o', 11: 'y', 12: 'k', 13: 'q', 14: 'a', 15: 'g', 16: 'u', 17: '_', 18: 'r', 19: 'n', 20: 'f', 21: 'c', 22: 'm', 23: 'v', 24: 'd', 25: 'i', 26: 'z', 27: 'e', 28: 'j', 0: '.'}\n"
     ]
    }
   ],
   "source": [
    "# clean all names in the dataset\n",
    "birds = list(map(clean_name, birds))\n",
    "\n",
    "# create a mapping from tokens to indices\n",
    "unique_tokens = set([c for w in birds for c in w])\n",
    "SPECIAL_TOKEN = \".\"\n",
    "index_to_token = {i: t for i, t in enumerate(unique_tokens, start=1)}\n",
    "token_to_index = {v: k for k, v in index_to_token.items()}\n",
    "index_to_token[0] = SPECIAL_TOKEN\n",
    "token_to_index[SPECIAL_TOKEN] = 0\n",
    "\n",
    "# log information about the tokenization\n",
    "print(f\"Number of unique tokens: {len(unique_tokens)}\")\n",
    "print(\", \".join(sorted(unique_tokens)))\n",
    "print(f\"\\nToken mapping: {index_to_token}\")"
   ]
  },
  {
   "cell_type": "code",
   "execution_count": 16,
   "id": "65287c85",
   "metadata": {},
   "outputs": [],
   "source": [
    "# Model parameters\n",
    "CONTEXT_SIZE = 3\n",
    "N_EMBEDDINGS = 10\n",
    "N_HIDDEN = 64\n",
    "N_TOKEN = len(token_to_index)\n",
    "\n",
    "# Training parameters\n",
    "TRAINING_SET_PORTION = 0.8\n",
    "DEVELOPMENT_SET_PORTION = 0.1\n",
    "TEST_SET_PORTION = 1 - (TRAINING_SET_PORTION + DEVELOPMENT_SET_PORTION)"
   ]
  },
  {
   "cell_type": "code",
   "execution_count": 12,
   "id": "98a0cff5",
   "metadata": {},
   "outputs": [
    {
     "name": "stdout",
     "output_type": "stream",
     "text": [
      "Training set shape: torch.Size([172513, 3]) torch.Size([172513])\n",
      "Development set shape: torch.Size([21531, 3]) torch.Size([21531])\n",
      "Test set shape: torch.Size([21461, 3]) torch.Size([21461])\n"
     ]
    }
   ],
   "source": [
    "def build_datasets(words: list[str]) -> tuple[torch.Tensor, torch.Tensor]:\n",
    "    \"\"\"\n",
    "    Build datasets from a list of words by creating input and target tensors.\n",
    "    \n",
    "    Args:\n",
    "        words (list[str]): List of words to build the datasets from.\n",
    "        \n",
    "    Returns:\n",
    "        tuple[torch.Tensor, torch.Tensor]: Tuple containing the input tensor X and target tensor Y.\n",
    "    \"\"\"\n",
    "    # Create a mapping from tokens to indices\n",
    "    X, Y = [], []\n",
    "    \n",
    "    # Create the context for each character in the words\n",
    "    for w in words:\n",
    "        context = [0] * CONTEXT_SIZE\n",
    "        for ch in w + SPECIAL_TOKEN:  # Add special token at the end\n",
    "            ix = token_to_index[ch]\n",
    "            X.append(context)\n",
    "            Y.append(ix)\n",
    "            # Update the context by shifting it and adding the new index \n",
    "            context = context[1:] + [ix]\n",
    "\n",
    "    # Convert lists to tensors\n",
    "    X = torch.tensor(X, dtype=torch.int64)\n",
    "    Y = torch.tensor(Y, dtype=torch.int64)\n",
    "\n",
    "    return X, Y\n",
    "    \n",
    "# Shuffle the words\n",
    "random.seed(1234)\n",
    "random.shuffle(birds)\n",
    "\n",
    "# Split the dataset into training, development, and test sets\n",
    "train_size = int(TRAINING_SET_PORTION * len(birds))\n",
    "dev_size = int(DEVELOPMENT_SET_PORTION * len(birds))\n",
    "\n",
    "X_train, Y_train = build_datasets(birds[:train_size])\n",
    "X_dev, Y_dev = build_datasets(birds[train_size:train_size + dev_size])\n",
    "X_test, Y_test = build_datasets(birds[train_size + dev_size:])\n",
    "\n",
    "# print tensor shapes\n",
    "print(\"Training set shape:\", X_train.shape, Y_train.shape)\n",
    "print(\"Development set shape:\", X_dev.shape, Y_dev.shape)\n",
    "print(\"Test set shape:\", X_test.shape, Y_test.shape)"
   ]
  },
  {
   "cell_type": "code",
   "execution_count": 14,
   "id": "0f0f0b6e",
   "metadata": {},
   "outputs": [],
   "source": [
    "def cmp(s, dt, t):\n",
    "    \"\"\"\n",
    "    Compare the true gradient dt and the approximate gradient t.grad.\n",
    "    Print the results in a table format.\n",
    "    \"\"\"\n",
    "    exact = torch.all(dt==t.grad).item()\n",
    "    approx = torch.allclose(dt, t.grad)\n",
    "    max_diff = (dt - t.grad).abs().max().item()\n",
    "    print(f\"{s:15s} | exact: {exact:5s} | approx: {approx:5s} | max diff: {max_diff:10.2e}\")"
   ]
  },
  {
   "cell_type": "code",
   "execution_count": null,
   "id": "9e74b94d",
   "metadata": {},
   "outputs": [],
   "source": [
    "g = torch.Generator().manual_seed(123456789) # for reproducibility\n",
    "\n",
    "# Embedding matrix\n",
    "C = torch.randn((N_TOKEN, N_EMBEDDINGS), generator=g)\n",
    "\n",
    "# Layer 1"
   ]
  }
 ],
 "metadata": {
  "kernelspec": {
   "display_name": ".venv",
   "language": "python",
   "name": "python3"
  },
  "language_info": {
   "codemirror_mode": {
    "name": "ipython",
    "version": 3
   },
   "file_extension": ".py",
   "mimetype": "text/x-python",
   "name": "python",
   "nbconvert_exporter": "python",
   "pygments_lexer": "ipython3",
   "version": "3.10.16"
  }
 },
 "nbformat": 4,
 "nbformat_minor": 5
}
